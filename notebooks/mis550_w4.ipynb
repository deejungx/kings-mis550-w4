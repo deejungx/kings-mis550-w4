{
 "cells": [
  {
   "attachments": {},
   "cell_type": "markdown",
   "metadata": {},
   "source": [
    "# MIS550: Week 4 Assessment\n",
    "\n",
    "Two data sets are provided in this week’s content: [Social Climbers.xlsx](https://docs.google.com/spreadsheets/d/147uFyy4ilCy9Kf1EBUCKXs0ES_F0ZZGe/edit?usp=sharing&ouid=114900977757724376901&rtpof=true&sd=true) and [Artsy Lawsuit.xslx](https://docs.google.com/spreadsheets/d/1jlRXskM5v4QN3IXQPitwl8jLz4GIel61/edit?usp=sharing&ouid=114900977757724376901&rtpof=true&sd=true). Use these data sets to perform the following tasks within the spreadsheets:\n",
    "\n",
    "**Social Climbers**\n",
    "\n",
    "- Compare the data to determine where relationships may exist. For example, you may ask if there is a relationship between education and income levels. Perform at least four different data comparisons.\n",
    "- Provide an explanation based on your comparison results. Where do relationships exist and where do they not exist, according to the data?\n",
    "\n",
    "**Artsy Lawsuit**\n",
    "\n",
    "- The story behind these data comes from a discrimination lawsuit filed, accusing the Artsy company of improper hiring processes and employment pay between men and women. Your task is to use these data to determine if the plaintiffs have a valid or strong case, which would then be presented in court to a jury.\n",
    "- Use basic statistical analysis to compare the data.\n",
    "\n",
    "In both of these data sets, you may choose to use the tools below or any others you feel are appropriate to tell the story and interpret the data. Not all tests are applicable for all data sets. It depends on the types of data and what you want to know."
   ]
  },
  {
   "cell_type": "code",
   "execution_count": 41,
   "metadata": {},
   "outputs": [],
   "source": [
    "import pandas as pd\n",
    "import matplotlib\n",
    "import plotly.express as px\n",
    "import seaborn as sns\n",
    "import matplotlib.pyplot as plt\n",
    "\n",
    "from scipy.stats import ttest_ind"
   ]
  },
  {
   "attachments": {},
   "cell_type": "markdown",
   "metadata": {},
   "source": [
    "## Social Climbers\n",
    "First, we will be analyzing the `Social Climbers` dataset. This dataset includes measurement of the importance of social status given by couples. The dataset contains information on the education level, salary, cars, home value, savings, and social climber index of each couple.<br>\n",
    "\n",
    "**Couple**: ID of the couple <br>\n",
    "**EducLevel**: Education level of the couple (1-4)\n",
    "1: High school only\n",
    "2: Undergraduate degree\n",
    "3: Master's degree\n",
    "4: Doctorate <br>\n",
    "**Salary**: Combined annual salary of the husband and wife <br>\n",
    "**Cars**: Value of the couple's cars <br>\n",
    "**Home**: Value of the couple's home <br>\n",
    "**Savings**: Level of savings (stocks, bonds, etc.) <br>\n",
    "**SCIndex**: Social climber index (scale of 1-10, where 1 means very unconcerned about social status and 10 means very concerned) <br>\n",
    "\n",
    "Our goal is to identify relationships between variables, determine their presence or absence, and provide explanations. To achieve this, we will perform a minimum of four data comparisons. <br>\n",
    "\n",
    "Let's get started.\n"
   ]
  },
  {
   "cell_type": "code",
   "execution_count": 42,
   "metadata": {},
   "outputs": [],
   "source": [
    "# Load the dataset\n",
    "social_climbers_df = pd.read_csv('../data/social_climbers.csv')"
   ]
  },
  {
   "cell_type": "code",
   "execution_count": 43,
   "metadata": {},
   "outputs": [
    {
     "name": "stdout",
     "output_type": "stream",
     "text": [
      "   Couple  EducLevel  Salary  Cars  Home  Savings  SCIndex\n",
      "0       1          4      90    19    83      289        3\n",
      "1       2          2      95    35   134     1130        3\n",
      "2       3          2      99    46   110      583        5\n",
      "3       4          3     130    24    69     1049        7\n",
      "4       5          4     126    42   153      612        7\n",
      "Couple       int64\n",
      "EducLevel    int64\n",
      "Salary       int64\n",
      "Cars         int64\n",
      "Home         int64\n",
      "Savings      int64\n",
      "SCIndex      int64\n",
      "dtype: object\n",
      "           Couple   EducLevel      Salary        Cars        Home  \\\n",
      "count  274.000000  274.000000  274.000000  274.000000  274.000000   \n",
      "mean   137.500000    2.835766   98.120438   40.193431  146.160584   \n",
      "std     79.241193    0.932933   24.948373   10.254410   58.255624   \n",
      "min      1.000000    1.000000   25.000000    9.000000   50.000000   \n",
      "25%     69.250000    2.000000   82.250000   34.000000  104.000000   \n",
      "50%    137.500000    3.000000   99.000000   40.000000  144.000000   \n",
      "75%    205.750000    4.000000  115.000000   47.000000  185.750000   \n",
      "max    274.000000    4.000000  167.000000   71.000000  341.000000   \n",
      "\n",
      "           Savings     SCIndex  \n",
      "count   274.000000  274.000000  \n",
      "mean    528.970803    4.733577  \n",
      "std     298.092137    2.619699  \n",
      "min       5.000000    1.000000  \n",
      "25%     344.250000    2.000000  \n",
      "50%     531.500000    5.000000  \n",
      "75%     690.750000    6.750000  \n",
      "max    1476.000000   10.000000  \n"
     ]
    }
   ],
   "source": [
    "# Check the first few rows\n",
    "print(social_climbers_df.head())\n",
    "\n",
    "# Check the data types\n",
    "print(social_climbers_df.dtypes)\n",
    "\n",
    "# Check the summary statistics\n",
    "print(social_climbers_df.describe())"
   ]
  },
  {
   "attachments": {},
   "cell_type": "markdown",
   "metadata": {},
   "source": [
    "We have indentified and selected the following hypothesis statements for analysis:\n",
    "\n",
    "1. **Education level affects salary and savings**: <br> Couples with higher education levels have higher salaries and savings compared to those with lower education levels. <br><br>\n",
    "2. **Higher salaries are associated with more cars and larger homes**: <br>Couples with higher salaries tend to own more cars and have larger homes. <br><br>\n",
    "3. **Higher education levels are associated with higher SCIndex scores**: <br>Couples with higher education levels are more likely to have higher Social Climbers Index (SCIndex) scores, indicating a higher social status.<br><br>\n",
    "4. **Higher salaries are associated with higher SCIndex scores**: <br>Couples with higher salaries are more likely to have higher SCIndex scores, indicating a higher social status.<br>"
   ]
  },
  {
   "attachments": {},
   "cell_type": "markdown",
   "metadata": {},
   "source": [
    "### 1. Education level affects salary and savings"
   ]
  },
  {
   "cell_type": "code",
   "execution_count": 44,
   "metadata": {},
   "outputs": [
    {
     "data": {
      "application/vnd.plotly.v1+json": {
       "config": {
        "plotlyServerURL": "https://plot.ly"
       },
       "data": [
        {
         "alignmentgroup": "True",
         "hovertemplate": "variable=YearlySalary<br>EducLevel=%{x}<br>value=%{y}<extra></extra>",
         "legendgroup": "YearlySalary",
         "marker": {
          "color": "#636efa",
          "pattern": {
           "shape": ""
          }
         },
         "name": "YearlySalary",
         "offsetgroup": "YearlySalary",
         "orientation": "v",
         "showlegend": true,
         "textposition": "auto",
         "type": "bar",
         "x": [
          4,
          2,
          2,
          3,
          4,
          2,
          3,
          4,
          2,
          2,
          4,
          3,
          2,
          3,
          4,
          2,
          4,
          1,
          2,
          3,
          4,
          2,
          3,
          4,
          3,
          2,
          3,
          3,
          3,
          4,
          3,
          4,
          1,
          2,
          1,
          2,
          4,
          2,
          3,
          4,
          3,
          3,
          4,
          3,
          1,
          4,
          2,
          2,
          1,
          2,
          2,
          3,
          4,
          2,
          3,
          2,
          3,
          1,
          3,
          4,
          2,
          2,
          4,
          4,
          2,
          2,
          2,
          3,
          3,
          3,
          3,
          1,
          3,
          3,
          4,
          4,
          2,
          1,
          4,
          4,
          2,
          1,
          3,
          3,
          3,
          2,
          2,
          4,
          3,
          2,
          3,
          2,
          4,
          4,
          4,
          4,
          3,
          4,
          4,
          3,
          3,
          4,
          2,
          2,
          3,
          2,
          3,
          2,
          3,
          3,
          1,
          4,
          4,
          2,
          2,
          3,
          3,
          2,
          3,
          2,
          3,
          4,
          4,
          3,
          2,
          1,
          2,
          2,
          4,
          2,
          2,
          4,
          4,
          2,
          3,
          2,
          3,
          2,
          4,
          3,
          3,
          3,
          4,
          2,
          4,
          3,
          2,
          4,
          4,
          3,
          3,
          4,
          2,
          4,
          4,
          3,
          2,
          4,
          2,
          3,
          2,
          2,
          4,
          4,
          4,
          2,
          3,
          4,
          4,
          3,
          3,
          3,
          2,
          2,
          4,
          2,
          4,
          3,
          2,
          3,
          3,
          3,
          3,
          2,
          3,
          1,
          4,
          4,
          2,
          2,
          4,
          2,
          2,
          2,
          2,
          4,
          4,
          3,
          3,
          1,
          3,
          2,
          4,
          4,
          2,
          2,
          1,
          4,
          4,
          3,
          3,
          3,
          3,
          2,
          4,
          2,
          3,
          2,
          1,
          3,
          3,
          2,
          4,
          3,
          2,
          2,
          2,
          3,
          4,
          2,
          3,
          2,
          3,
          3,
          4,
          3,
          2,
          3,
          2,
          1,
          4,
          4,
          2,
          3,
          4,
          1,
          2,
          4,
          3,
          1,
          4,
          2,
          4,
          3,
          1,
          4,
          3,
          4,
          3,
          3,
          3,
          4,
          4,
          1,
          3,
          4,
          3,
          3,
          2,
          2,
          4,
          4,
          4,
          2
         ],
         "xaxis": "x",
         "y": [
          1080,
          1140,
          1188,
          1560,
          1512,
          876,
          1332,
          1680,
          624,
          1188,
          1212,
          1608,
          744,
          1668,
          1008,
          552,
          1248,
          648,
          1056,
          1428,
          1500,
          1044,
          876,
          1368,
          1248,
          1344,
          1272,
          1236,
          1620,
          1152,
          840,
          852,
          312,
          1248,
          1236,
          720,
          1140,
          996,
          1164,
          936,
          924,
          1284,
          996,
          852,
          852,
          1392,
          780,
          816,
          1080,
          924,
          1236,
          1320,
          1380,
          1224,
          756,
          1236,
          1452,
          1200,
          1188,
          1428,
          1452,
          1068,
          1032,
          996,
          852,
          1356,
          1428,
          900,
          1764,
          936,
          1320,
          768,
          684,
          1464,
          1200,
          540,
          1008,
          1164,
          1632,
          1512,
          1044,
          636,
          948,
          1428,
          1284,
          1116,
          1296,
          1404,
          1272,
          1464,
          1344,
          996,
          1236,
          1440,
          1248,
          1188,
          1416,
          1188,
          1308,
          828,
          1584,
          1488,
          900,
          768,
          948,
          900,
          1632,
          1152,
          1356,
          660,
          1236,
          1548,
          1152,
          804,
          972,
          1452,
          1308,
          1140,
          2004,
          1380,
          1284,
          1776,
          1452,
          1284,
          1332,
          696,
          1056,
          1008,
          984,
          1068,
          1200,
          1200,
          1056,
          768,
          1260,
          1572,
          1236,
          1128,
          1128,
          1656,
          1272,
          1560,
          1932,
          1596,
          1260,
          1044,
          1080,
          1800,
          1512,
          1308,
          900,
          1392,
          1188,
          1332,
          1572,
          1248,
          1476,
          1068,
          1140,
          1176,
          468,
          1176,
          1548,
          1284,
          1164,
          912,
          1104,
          780,
          1392,
          1296,
          900,
          732,
          1116,
          1332,
          1644,
          684,
          1404,
          1140,
          1188,
          1260,
          1128,
          1092,
          1044,
          1176,
          1368,
          1224,
          1884,
          1368,
          1356,
          984,
          1056,
          1200,
          768,
          1260,
          1452,
          1380,
          1272,
          864,
          1260,
          792,
          1092,
          1188,
          1116,
          1692,
          1020,
          1620,
          1188,
          1428,
          1032,
          1032,
          1152,
          1440,
          1224,
          1056,
          984,
          1368,
          1500,
          1392,
          756,
          1476,
          1728,
          888,
          1176,
          1416,
          924,
          1440,
          468,
          696,
          912,
          600,
          1380,
          648,
          1128,
          1092,
          1008,
          708,
          1116,
          708,
          1428,
          1284,
          1140,
          1932,
          984,
          1260,
          1380,
          840,
          1332,
          1176,
          960,
          300,
          1260,
          1032,
          1368,
          1080,
          840,
          972,
          1560,
          1092,
          1560,
          996,
          1656,
          1656,
          1584,
          828,
          1068,
          1152,
          744,
          1680,
          792,
          1236,
          1428,
          1476,
          1272,
          708
         ],
         "yaxis": "y"
        },
        {
         "alignmentgroup": "True",
         "hovertemplate": "variable=Savings<br>EducLevel=%{x}<br>value=%{y}<extra></extra>",
         "legendgroup": "Savings",
         "marker": {
          "color": "#EF553B",
          "pattern": {
           "shape": ""
          }
         },
         "name": "Savings",
         "offsetgroup": "Savings",
         "orientation": "v",
         "showlegend": true,
         "textposition": "auto",
         "type": "bar",
         "x": [
          4,
          2,
          2,
          3,
          4,
          2,
          3,
          4,
          2,
          2,
          4,
          3,
          2,
          3,
          4,
          2,
          4,
          1,
          2,
          3,
          4,
          2,
          3,
          4,
          3,
          2,
          3,
          3,
          3,
          4,
          3,
          4,
          1,
          2,
          1,
          2,
          4,
          2,
          3,
          4,
          3,
          3,
          4,
          3,
          1,
          4,
          2,
          2,
          1,
          2,
          2,
          3,
          4,
          2,
          3,
          2,
          3,
          1,
          3,
          4,
          2,
          2,
          4,
          4,
          2,
          2,
          2,
          3,
          3,
          3,
          3,
          1,
          3,
          3,
          4,
          4,
          2,
          1,
          4,
          4,
          2,
          1,
          3,
          3,
          3,
          2,
          2,
          4,
          3,
          2,
          3,
          2,
          4,
          4,
          4,
          4,
          3,
          4,
          4,
          3,
          3,
          4,
          2,
          2,
          3,
          2,
          3,
          2,
          3,
          3,
          1,
          4,
          4,
          2,
          2,
          3,
          3,
          2,
          3,
          2,
          3,
          4,
          4,
          3,
          2,
          1,
          2,
          2,
          4,
          2,
          2,
          4,
          4,
          2,
          3,
          2,
          3,
          2,
          4,
          3,
          3,
          3,
          4,
          2,
          4,
          3,
          2,
          4,
          4,
          3,
          3,
          4,
          2,
          4,
          4,
          3,
          2,
          4,
          2,
          3,
          2,
          2,
          4,
          4,
          4,
          2,
          3,
          4,
          4,
          3,
          3,
          3,
          2,
          2,
          4,
          2,
          4,
          3,
          2,
          3,
          3,
          3,
          3,
          2,
          3,
          1,
          4,
          4,
          2,
          2,
          4,
          2,
          2,
          2,
          2,
          4,
          4,
          3,
          3,
          1,
          3,
          2,
          4,
          4,
          2,
          2,
          1,
          4,
          4,
          3,
          3,
          3,
          3,
          2,
          4,
          2,
          3,
          2,
          1,
          3,
          3,
          2,
          4,
          3,
          2,
          2,
          2,
          3,
          4,
          2,
          3,
          2,
          3,
          3,
          4,
          3,
          2,
          3,
          2,
          1,
          4,
          4,
          2,
          3,
          4,
          1,
          2,
          4,
          3,
          1,
          4,
          2,
          4,
          3,
          1,
          4,
          3,
          4,
          3,
          3,
          3,
          4,
          4,
          1,
          3,
          4,
          3,
          3,
          2,
          2,
          4,
          4,
          4,
          2
         ],
         "xaxis": "x",
         "y": [
          289,
          1130,
          583,
          1049,
          612,
          650,
          675,
          347,
          420,
          39,
          5,
          553,
          659,
          648,
          5,
          630,
          698,
          1247,
          471,
          81,
          5,
          507,
          5,
          55,
          385,
          815,
          810,
          572,
          521,
          166,
          817,
          500,
          320,
          325,
          623,
          335,
          5,
          508,
          686,
          61,
          344,
          105,
          121,
          477,
          788,
          91,
          513,
          590,
          306,
          894,
          509,
          867,
          345,
          372,
          481,
          980,
          5,
          979,
          753,
          5,
          535,
          557,
          589,
          533,
          797,
          1084,
          694,
          126,
          352,
          561,
          517,
          360,
          415,
          251,
          622,
          289,
          690,
          642,
          435,
          359,
          137,
          1255,
          489,
          778,
          331,
          651,
          525,
          59,
          551,
          858,
          6,
          593,
          370,
          683,
          669,
          491,
          5,
          337,
          304,
          721,
          99,
          530,
          644,
          468,
          460,
          877,
          847,
          566,
          466,
          812,
          1269,
          339,
          368,
          1170,
          544,
          500,
          150,
          599,
          484,
          600,
          363,
          422,
          5,
          513,
          596,
          353,
          659,
          709,
          433,
          1139,
          533,
          454,
          549,
          681,
          759,
          522,
          909,
          916,
          5,
          548,
          362,
          688,
          5,
          691,
          789,
          400,
          459,
          741,
          1003,
          571,
          606,
          21,
          420,
          499,
          5,
          568,
          550,
          5,
          1044,
          654,
          304,
          1196,
          162,
          668,
          93,
          563,
          726,
          112,
          836,
          88,
          177,
          493,
          1476,
          943,
          724,
          616,
          5,
          897,
          539,
          714,
          204,
          356,
          410,
          1067,
          332,
          965,
          536,
          361,
          516,
          617,
          583,
          746,
          1136,
          1108,
          686,
          359,
          702,
          577,
          543,
          289,
          477,
          302,
          5,
          349,
          683,
          389,
          1023,
          412,
          728,
          399,
          684,
          772,
          373,
          691,
          548,
          477,
          476,
          942,
          1137,
          343,
          549,
          386,
          739,
          656,
          798,
          611,
          594,
          750,
          5,
          732,
          496,
          509,
          281,
          298,
          264,
          364,
          612,
          786,
          1118,
          791,
          473,
          261,
          538,
          625,
          108,
          844,
          554,
          227,
          320,
          823,
          672,
          444,
          311,
          1044,
          1049,
          439,
          575,
          302,
          365,
          529,
          102,
          437,
          197,
          1243,
          244,
          317,
          550,
          545,
          645,
          288,
          758,
          426,
          5,
          1205
         ],
         "yaxis": "y"
        }
       ],
       "layout": {
        "barmode": "group",
        "legend": {
         "title": {
          "text": "variable"
         },
         "tracegroupgap": 0
        },
        "margin": {
         "t": 60
        },
        "template": {
         "data": {
          "bar": [
           {
            "error_x": {
             "color": "#2a3f5f"
            },
            "error_y": {
             "color": "#2a3f5f"
            },
            "marker": {
             "line": {
              "color": "#E5ECF6",
              "width": 0.5
             },
             "pattern": {
              "fillmode": "overlay",
              "size": 10,
              "solidity": 0.2
             }
            },
            "type": "bar"
           }
          ],
          "barpolar": [
           {
            "marker": {
             "line": {
              "color": "#E5ECF6",
              "width": 0.5
             },
             "pattern": {
              "fillmode": "overlay",
              "size": 10,
              "solidity": 0.2
             }
            },
            "type": "barpolar"
           }
          ],
          "carpet": [
           {
            "aaxis": {
             "endlinecolor": "#2a3f5f",
             "gridcolor": "white",
             "linecolor": "white",
             "minorgridcolor": "white",
             "startlinecolor": "#2a3f5f"
            },
            "baxis": {
             "endlinecolor": "#2a3f5f",
             "gridcolor": "white",
             "linecolor": "white",
             "minorgridcolor": "white",
             "startlinecolor": "#2a3f5f"
            },
            "type": "carpet"
           }
          ],
          "choropleth": [
           {
            "colorbar": {
             "outlinewidth": 0,
             "ticks": ""
            },
            "type": "choropleth"
           }
          ],
          "contour": [
           {
            "colorbar": {
             "outlinewidth": 0,
             "ticks": ""
            },
            "colorscale": [
             [
              0,
              "#0d0887"
             ],
             [
              0.1111111111111111,
              "#46039f"
             ],
             [
              0.2222222222222222,
              "#7201a8"
             ],
             [
              0.3333333333333333,
              "#9c179e"
             ],
             [
              0.4444444444444444,
              "#bd3786"
             ],
             [
              0.5555555555555556,
              "#d8576b"
             ],
             [
              0.6666666666666666,
              "#ed7953"
             ],
             [
              0.7777777777777778,
              "#fb9f3a"
             ],
             [
              0.8888888888888888,
              "#fdca26"
             ],
             [
              1,
              "#f0f921"
             ]
            ],
            "type": "contour"
           }
          ],
          "contourcarpet": [
           {
            "colorbar": {
             "outlinewidth": 0,
             "ticks": ""
            },
            "type": "contourcarpet"
           }
          ],
          "heatmap": [
           {
            "colorbar": {
             "outlinewidth": 0,
             "ticks": ""
            },
            "colorscale": [
             [
              0,
              "#0d0887"
             ],
             [
              0.1111111111111111,
              "#46039f"
             ],
             [
              0.2222222222222222,
              "#7201a8"
             ],
             [
              0.3333333333333333,
              "#9c179e"
             ],
             [
              0.4444444444444444,
              "#bd3786"
             ],
             [
              0.5555555555555556,
              "#d8576b"
             ],
             [
              0.6666666666666666,
              "#ed7953"
             ],
             [
              0.7777777777777778,
              "#fb9f3a"
             ],
             [
              0.8888888888888888,
              "#fdca26"
             ],
             [
              1,
              "#f0f921"
             ]
            ],
            "type": "heatmap"
           }
          ],
          "heatmapgl": [
           {
            "colorbar": {
             "outlinewidth": 0,
             "ticks": ""
            },
            "colorscale": [
             [
              0,
              "#0d0887"
             ],
             [
              0.1111111111111111,
              "#46039f"
             ],
             [
              0.2222222222222222,
              "#7201a8"
             ],
             [
              0.3333333333333333,
              "#9c179e"
             ],
             [
              0.4444444444444444,
              "#bd3786"
             ],
             [
              0.5555555555555556,
              "#d8576b"
             ],
             [
              0.6666666666666666,
              "#ed7953"
             ],
             [
              0.7777777777777778,
              "#fb9f3a"
             ],
             [
              0.8888888888888888,
              "#fdca26"
             ],
             [
              1,
              "#f0f921"
             ]
            ],
            "type": "heatmapgl"
           }
          ],
          "histogram": [
           {
            "marker": {
             "pattern": {
              "fillmode": "overlay",
              "size": 10,
              "solidity": 0.2
             }
            },
            "type": "histogram"
           }
          ],
          "histogram2d": [
           {
            "colorbar": {
             "outlinewidth": 0,
             "ticks": ""
            },
            "colorscale": [
             [
              0,
              "#0d0887"
             ],
             [
              0.1111111111111111,
              "#46039f"
             ],
             [
              0.2222222222222222,
              "#7201a8"
             ],
             [
              0.3333333333333333,
              "#9c179e"
             ],
             [
              0.4444444444444444,
              "#bd3786"
             ],
             [
              0.5555555555555556,
              "#d8576b"
             ],
             [
              0.6666666666666666,
              "#ed7953"
             ],
             [
              0.7777777777777778,
              "#fb9f3a"
             ],
             [
              0.8888888888888888,
              "#fdca26"
             ],
             [
              1,
              "#f0f921"
             ]
            ],
            "type": "histogram2d"
           }
          ],
          "histogram2dcontour": [
           {
            "colorbar": {
             "outlinewidth": 0,
             "ticks": ""
            },
            "colorscale": [
             [
              0,
              "#0d0887"
             ],
             [
              0.1111111111111111,
              "#46039f"
             ],
             [
              0.2222222222222222,
              "#7201a8"
             ],
             [
              0.3333333333333333,
              "#9c179e"
             ],
             [
              0.4444444444444444,
              "#bd3786"
             ],
             [
              0.5555555555555556,
              "#d8576b"
             ],
             [
              0.6666666666666666,
              "#ed7953"
             ],
             [
              0.7777777777777778,
              "#fb9f3a"
             ],
             [
              0.8888888888888888,
              "#fdca26"
             ],
             [
              1,
              "#f0f921"
             ]
            ],
            "type": "histogram2dcontour"
           }
          ],
          "mesh3d": [
           {
            "colorbar": {
             "outlinewidth": 0,
             "ticks": ""
            },
            "type": "mesh3d"
           }
          ],
          "parcoords": [
           {
            "line": {
             "colorbar": {
              "outlinewidth": 0,
              "ticks": ""
             }
            },
            "type": "parcoords"
           }
          ],
          "pie": [
           {
            "automargin": true,
            "type": "pie"
           }
          ],
          "scatter": [
           {
            "fillpattern": {
             "fillmode": "overlay",
             "size": 10,
             "solidity": 0.2
            },
            "type": "scatter"
           }
          ],
          "scatter3d": [
           {
            "line": {
             "colorbar": {
              "outlinewidth": 0,
              "ticks": ""
             }
            },
            "marker": {
             "colorbar": {
              "outlinewidth": 0,
              "ticks": ""
             }
            },
            "type": "scatter3d"
           }
          ],
          "scattercarpet": [
           {
            "marker": {
             "colorbar": {
              "outlinewidth": 0,
              "ticks": ""
             }
            },
            "type": "scattercarpet"
           }
          ],
          "scattergeo": [
           {
            "marker": {
             "colorbar": {
              "outlinewidth": 0,
              "ticks": ""
             }
            },
            "type": "scattergeo"
           }
          ],
          "scattergl": [
           {
            "marker": {
             "colorbar": {
              "outlinewidth": 0,
              "ticks": ""
             }
            },
            "type": "scattergl"
           }
          ],
          "scattermapbox": [
           {
            "marker": {
             "colorbar": {
              "outlinewidth": 0,
              "ticks": ""
             }
            },
            "type": "scattermapbox"
           }
          ],
          "scatterpolar": [
           {
            "marker": {
             "colorbar": {
              "outlinewidth": 0,
              "ticks": ""
             }
            },
            "type": "scatterpolar"
           }
          ],
          "scatterpolargl": [
           {
            "marker": {
             "colorbar": {
              "outlinewidth": 0,
              "ticks": ""
             }
            },
            "type": "scatterpolargl"
           }
          ],
          "scatterternary": [
           {
            "marker": {
             "colorbar": {
              "outlinewidth": 0,
              "ticks": ""
             }
            },
            "type": "scatterternary"
           }
          ],
          "surface": [
           {
            "colorbar": {
             "outlinewidth": 0,
             "ticks": ""
            },
            "colorscale": [
             [
              0,
              "#0d0887"
             ],
             [
              0.1111111111111111,
              "#46039f"
             ],
             [
              0.2222222222222222,
              "#7201a8"
             ],
             [
              0.3333333333333333,
              "#9c179e"
             ],
             [
              0.4444444444444444,
              "#bd3786"
             ],
             [
              0.5555555555555556,
              "#d8576b"
             ],
             [
              0.6666666666666666,
              "#ed7953"
             ],
             [
              0.7777777777777778,
              "#fb9f3a"
             ],
             [
              0.8888888888888888,
              "#fdca26"
             ],
             [
              1,
              "#f0f921"
             ]
            ],
            "type": "surface"
           }
          ],
          "table": [
           {
            "cells": {
             "fill": {
              "color": "#EBF0F8"
             },
             "line": {
              "color": "white"
             }
            },
            "header": {
             "fill": {
              "color": "#C8D4E3"
             },
             "line": {
              "color": "white"
             }
            },
            "type": "table"
           }
          ]
         },
         "layout": {
          "annotationdefaults": {
           "arrowcolor": "#2a3f5f",
           "arrowhead": 0,
           "arrowwidth": 1
          },
          "autotypenumbers": "strict",
          "coloraxis": {
           "colorbar": {
            "outlinewidth": 0,
            "ticks": ""
           }
          },
          "colorscale": {
           "diverging": [
            [
             0,
             "#8e0152"
            ],
            [
             0.1,
             "#c51b7d"
            ],
            [
             0.2,
             "#de77ae"
            ],
            [
             0.3,
             "#f1b6da"
            ],
            [
             0.4,
             "#fde0ef"
            ],
            [
             0.5,
             "#f7f7f7"
            ],
            [
             0.6,
             "#e6f5d0"
            ],
            [
             0.7,
             "#b8e186"
            ],
            [
             0.8,
             "#7fbc41"
            ],
            [
             0.9,
             "#4d9221"
            ],
            [
             1,
             "#276419"
            ]
           ],
           "sequential": [
            [
             0,
             "#0d0887"
            ],
            [
             0.1111111111111111,
             "#46039f"
            ],
            [
             0.2222222222222222,
             "#7201a8"
            ],
            [
             0.3333333333333333,
             "#9c179e"
            ],
            [
             0.4444444444444444,
             "#bd3786"
            ],
            [
             0.5555555555555556,
             "#d8576b"
            ],
            [
             0.6666666666666666,
             "#ed7953"
            ],
            [
             0.7777777777777778,
             "#fb9f3a"
            ],
            [
             0.8888888888888888,
             "#fdca26"
            ],
            [
             1,
             "#f0f921"
            ]
           ],
           "sequentialminus": [
            [
             0,
             "#0d0887"
            ],
            [
             0.1111111111111111,
             "#46039f"
            ],
            [
             0.2222222222222222,
             "#7201a8"
            ],
            [
             0.3333333333333333,
             "#9c179e"
            ],
            [
             0.4444444444444444,
             "#bd3786"
            ],
            [
             0.5555555555555556,
             "#d8576b"
            ],
            [
             0.6666666666666666,
             "#ed7953"
            ],
            [
             0.7777777777777778,
             "#fb9f3a"
            ],
            [
             0.8888888888888888,
             "#fdca26"
            ],
            [
             1,
             "#f0f921"
            ]
           ]
          },
          "colorway": [
           "#636efa",
           "#EF553B",
           "#00cc96",
           "#ab63fa",
           "#FFA15A",
           "#19d3f3",
           "#FF6692",
           "#B6E880",
           "#FF97FF",
           "#FECB52"
          ],
          "font": {
           "color": "#2a3f5f"
          },
          "geo": {
           "bgcolor": "white",
           "lakecolor": "white",
           "landcolor": "#E5ECF6",
           "showlakes": true,
           "showland": true,
           "subunitcolor": "white"
          },
          "hoverlabel": {
           "align": "left"
          },
          "hovermode": "closest",
          "mapbox": {
           "style": "light"
          },
          "paper_bgcolor": "white",
          "plot_bgcolor": "#E5ECF6",
          "polar": {
           "angularaxis": {
            "gridcolor": "white",
            "linecolor": "white",
            "ticks": ""
           },
           "bgcolor": "#E5ECF6",
           "radialaxis": {
            "gridcolor": "white",
            "linecolor": "white",
            "ticks": ""
           }
          },
          "scene": {
           "xaxis": {
            "backgroundcolor": "#E5ECF6",
            "gridcolor": "white",
            "gridwidth": 2,
            "linecolor": "white",
            "showbackground": true,
            "ticks": "",
            "zerolinecolor": "white"
           },
           "yaxis": {
            "backgroundcolor": "#E5ECF6",
            "gridcolor": "white",
            "gridwidth": 2,
            "linecolor": "white",
            "showbackground": true,
            "ticks": "",
            "zerolinecolor": "white"
           },
           "zaxis": {
            "backgroundcolor": "#E5ECF6",
            "gridcolor": "white",
            "gridwidth": 2,
            "linecolor": "white",
            "showbackground": true,
            "ticks": "",
            "zerolinecolor": "white"
           }
          },
          "shapedefaults": {
           "line": {
            "color": "#2a3f5f"
           }
          },
          "ternary": {
           "aaxis": {
            "gridcolor": "white",
            "linecolor": "white",
            "ticks": ""
           },
           "baxis": {
            "gridcolor": "white",
            "linecolor": "white",
            "ticks": ""
           },
           "bgcolor": "#E5ECF6",
           "caxis": {
            "gridcolor": "white",
            "linecolor": "white",
            "ticks": ""
           }
          },
          "title": {
           "x": 0.05
          },
          "xaxis": {
           "automargin": true,
           "gridcolor": "white",
           "linecolor": "white",
           "ticks": "",
           "title": {
            "standoff": 15
           },
           "zerolinecolor": "white",
           "zerolinewidth": 2
          },
          "yaxis": {
           "automargin": true,
           "gridcolor": "white",
           "linecolor": "white",
           "ticks": "",
           "title": {
            "standoff": 15
           },
           "zerolinecolor": "white",
           "zerolinewidth": 2
          }
         }
        },
        "title": {
         "text": "Yearly Salary and Savings by Education Level"
        },
        "xaxis": {
         "anchor": "y",
         "domain": [
          0,
          1
         ],
         "title": {
          "text": "Education Level"
         }
        },
        "yaxis": {
         "anchor": "x",
         "domain": [
          0,
          1
         ],
         "title": {
          "text": "Amount"
         }
        }
       }
      }
     },
     "metadata": {},
     "output_type": "display_data"
    }
   ],
   "source": [
    "# The fact that the salary value is lower than the savings suggests that the salary is given on a monthly basis, \n",
    "# while the savings are given on a yearly basis.\n",
    "# To make a better comparison, we need to convert them into the same time frame.\n",
    "social_climbers_df['YearlySalary'] = social_climbers_df['Salary'] * 12\n",
    "\n",
    "# Create a bar chart with education level on the x-axis, salary and savings on the y-axis, and SCIndex as the color\n",
    "fig = px.bar(social_climbers_df, x='EducLevel', y=['YearlySalary', 'Savings'], barmode='group')\n",
    "\n",
    "# Add axis labels and a title\n",
    "fig.update_layout(xaxis_title='Education Level', yaxis_title='Amount', title='Yearly Salary and Savings by Education Level')\n",
    "\n",
    "# Show the plot\n",
    "fig.show()"
   ]
  },
  {
   "cell_type": "code",
   "execution_count": 45,
   "metadata": {},
   "outputs": [
    {
     "name": "stdout",
     "output_type": "stream",
     "text": [
      "              EducLevel  YearlySalary   Savings\n",
      "EducLevel      1.000000       0.38218 -0.486429\n",
      "YearlySalary   0.382180       1.00000 -0.162160\n",
      "Savings       -0.486429      -0.16216  1.000000\n"
     ]
    }
   ],
   "source": [
    "# Calculate the correlation coefficients between education level, salary, and savings\n",
    "corr_matrix = social_climbers_df[['EducLevel', 'YearlySalary', 'Savings']].corr()\n",
    "\n",
    "# Print the correlation matrix\n",
    "print(corr_matrix)"
   ]
  },
  {
   "attachments": {},
   "cell_type": "markdown",
   "metadata": {},
   "source": [
    "The correlation matrix shows the correlation coefficients between the variables in the dataset. The correlation coefficient ranges from `-1` to `1`, where `-1` indicates a perfect negative correlation, `0` indicates no correlation, and `1` indicates a perfect positive correlation. <br><br>\n",
    "The correlation coefficient between education level and yearly salary is `0.38218`, indicating a positive correlation between the two variables. This means that couples with higher education levels tend to have higher yearly salaries. The correlation coefficient between education level and yearly savings is `-0.486429`, indicating a negative correlation between the two variables. This means that couples with higher education levels tend to have lower yearly savings. The correlation coefficient between yearly salary and yearly savings is -`0.16216`, indicating a weak negative correlation between the two variables. This means that couples with higher yearly salaries tend to have lower yearly savings. <br><br>\n",
    "Theis suggests that education level has a stronger relationship with yearly salary than with yearly savings. However, the negative correlation between education level and yearly savings suggests that couples with higher education levels may prioritize spending over saving.\n"
   ]
  },
  {
   "attachments": {},
   "cell_type": "markdown",
   "metadata": {},
   "source": [
    "### 2. Higher salaries are associated with more cars and larger homes"
   ]
  },
  {
   "cell_type": "code",
   "execution_count": 46,
   "metadata": {},
   "outputs": [
    {
     "data": {
      "application/vnd.plotly.v1+json": {
       "config": {
        "plotlyServerURL": "https://plot.ly"
       },
       "data": [
        {
         "alignmentgroup": "True",
         "hovertemplate": "variable=Cars<br>Salary Range=%{x}<br>value=%{y}<extra></extra>",
         "legendgroup": "Cars",
         "marker": {
          "color": "#636efa",
          "pattern": {
           "shape": ""
          }
         },
         "name": "Cars",
         "offsetgroup": "Cars",
         "orientation": "v",
         "showlegend": true,
         "textposition": "auto",
         "type": "bar",
         "x": [
          "0-20k",
          "20-40k",
          "40-60k",
          "60-80",
          "80-100k",
          "100-120k",
          "120-140k",
          "140-160k",
          "160-180k"
         ],
         "xaxis": "x",
         "y": [
          null,
          30,
          27.875,
          34.93023255813954,
          38.44578313253012,
          43.1625,
          47.38461538461539,
          47.833333333333336,
          55.333333333333336
         ],
         "yaxis": "y"
        },
        {
         "alignmentgroup": "True",
         "hovertemplate": "variable=Home<br>Salary Range=%{x}<br>value=%{y}<extra></extra>",
         "legendgroup": "Home",
         "marker": {
          "color": "#EF553B",
          "pattern": {
           "shape": ""
          }
         },
         "name": "Home",
         "offsetgroup": "Home",
         "orientation": "v",
         "showlegend": true,
         "textposition": "auto",
         "type": "bar",
         "x": [
          "0-20k",
          "20-40k",
          "40-60k",
          "60-80",
          "80-100k",
          "100-120k",
          "120-140k",
          "140-160k",
          "160-180k"
         ],
         "xaxis": "x",
         "y": [
          null,
          64.25,
          104.4375,
          118.32558139534883,
          137.44578313253012,
          156.1125,
          188.84615384615384,
          179.33333333333334,
          231.33333333333334
         ],
         "yaxis": "y"
        }
       ],
       "layout": {
        "barmode": "group",
        "legend": {
         "title": {
          "text": "variable"
         },
         "tracegroupgap": 0
        },
        "template": {
         "data": {
          "bar": [
           {
            "error_x": {
             "color": "#2a3f5f"
            },
            "error_y": {
             "color": "#2a3f5f"
            },
            "marker": {
             "line": {
              "color": "#E5ECF6",
              "width": 0.5
             },
             "pattern": {
              "fillmode": "overlay",
              "size": 10,
              "solidity": 0.2
             }
            },
            "type": "bar"
           }
          ],
          "barpolar": [
           {
            "marker": {
             "line": {
              "color": "#E5ECF6",
              "width": 0.5
             },
             "pattern": {
              "fillmode": "overlay",
              "size": 10,
              "solidity": 0.2
             }
            },
            "type": "barpolar"
           }
          ],
          "carpet": [
           {
            "aaxis": {
             "endlinecolor": "#2a3f5f",
             "gridcolor": "white",
             "linecolor": "white",
             "minorgridcolor": "white",
             "startlinecolor": "#2a3f5f"
            },
            "baxis": {
             "endlinecolor": "#2a3f5f",
             "gridcolor": "white",
             "linecolor": "white",
             "minorgridcolor": "white",
             "startlinecolor": "#2a3f5f"
            },
            "type": "carpet"
           }
          ],
          "choropleth": [
           {
            "colorbar": {
             "outlinewidth": 0,
             "ticks": ""
            },
            "type": "choropleth"
           }
          ],
          "contour": [
           {
            "colorbar": {
             "outlinewidth": 0,
             "ticks": ""
            },
            "colorscale": [
             [
              0,
              "#0d0887"
             ],
             [
              0.1111111111111111,
              "#46039f"
             ],
             [
              0.2222222222222222,
              "#7201a8"
             ],
             [
              0.3333333333333333,
              "#9c179e"
             ],
             [
              0.4444444444444444,
              "#bd3786"
             ],
             [
              0.5555555555555556,
              "#d8576b"
             ],
             [
              0.6666666666666666,
              "#ed7953"
             ],
             [
              0.7777777777777778,
              "#fb9f3a"
             ],
             [
              0.8888888888888888,
              "#fdca26"
             ],
             [
              1,
              "#f0f921"
             ]
            ],
            "type": "contour"
           }
          ],
          "contourcarpet": [
           {
            "colorbar": {
             "outlinewidth": 0,
             "ticks": ""
            },
            "type": "contourcarpet"
           }
          ],
          "heatmap": [
           {
            "colorbar": {
             "outlinewidth": 0,
             "ticks": ""
            },
            "colorscale": [
             [
              0,
              "#0d0887"
             ],
             [
              0.1111111111111111,
              "#46039f"
             ],
             [
              0.2222222222222222,
              "#7201a8"
             ],
             [
              0.3333333333333333,
              "#9c179e"
             ],
             [
              0.4444444444444444,
              "#bd3786"
             ],
             [
              0.5555555555555556,
              "#d8576b"
             ],
             [
              0.6666666666666666,
              "#ed7953"
             ],
             [
              0.7777777777777778,
              "#fb9f3a"
             ],
             [
              0.8888888888888888,
              "#fdca26"
             ],
             [
              1,
              "#f0f921"
             ]
            ],
            "type": "heatmap"
           }
          ],
          "heatmapgl": [
           {
            "colorbar": {
             "outlinewidth": 0,
             "ticks": ""
            },
            "colorscale": [
             [
              0,
              "#0d0887"
             ],
             [
              0.1111111111111111,
              "#46039f"
             ],
             [
              0.2222222222222222,
              "#7201a8"
             ],
             [
              0.3333333333333333,
              "#9c179e"
             ],
             [
              0.4444444444444444,
              "#bd3786"
             ],
             [
              0.5555555555555556,
              "#d8576b"
             ],
             [
              0.6666666666666666,
              "#ed7953"
             ],
             [
              0.7777777777777778,
              "#fb9f3a"
             ],
             [
              0.8888888888888888,
              "#fdca26"
             ],
             [
              1,
              "#f0f921"
             ]
            ],
            "type": "heatmapgl"
           }
          ],
          "histogram": [
           {
            "marker": {
             "pattern": {
              "fillmode": "overlay",
              "size": 10,
              "solidity": 0.2
             }
            },
            "type": "histogram"
           }
          ],
          "histogram2d": [
           {
            "colorbar": {
             "outlinewidth": 0,
             "ticks": ""
            },
            "colorscale": [
             [
              0,
              "#0d0887"
             ],
             [
              0.1111111111111111,
              "#46039f"
             ],
             [
              0.2222222222222222,
              "#7201a8"
             ],
             [
              0.3333333333333333,
              "#9c179e"
             ],
             [
              0.4444444444444444,
              "#bd3786"
             ],
             [
              0.5555555555555556,
              "#d8576b"
             ],
             [
              0.6666666666666666,
              "#ed7953"
             ],
             [
              0.7777777777777778,
              "#fb9f3a"
             ],
             [
              0.8888888888888888,
              "#fdca26"
             ],
             [
              1,
              "#f0f921"
             ]
            ],
            "type": "histogram2d"
           }
          ],
          "histogram2dcontour": [
           {
            "colorbar": {
             "outlinewidth": 0,
             "ticks": ""
            },
            "colorscale": [
             [
              0,
              "#0d0887"
             ],
             [
              0.1111111111111111,
              "#46039f"
             ],
             [
              0.2222222222222222,
              "#7201a8"
             ],
             [
              0.3333333333333333,
              "#9c179e"
             ],
             [
              0.4444444444444444,
              "#bd3786"
             ],
             [
              0.5555555555555556,
              "#d8576b"
             ],
             [
              0.6666666666666666,
              "#ed7953"
             ],
             [
              0.7777777777777778,
              "#fb9f3a"
             ],
             [
              0.8888888888888888,
              "#fdca26"
             ],
             [
              1,
              "#f0f921"
             ]
            ],
            "type": "histogram2dcontour"
           }
          ],
          "mesh3d": [
           {
            "colorbar": {
             "outlinewidth": 0,
             "ticks": ""
            },
            "type": "mesh3d"
           }
          ],
          "parcoords": [
           {
            "line": {
             "colorbar": {
              "outlinewidth": 0,
              "ticks": ""
             }
            },
            "type": "parcoords"
           }
          ],
          "pie": [
           {
            "automargin": true,
            "type": "pie"
           }
          ],
          "scatter": [
           {
            "fillpattern": {
             "fillmode": "overlay",
             "size": 10,
             "solidity": 0.2
            },
            "type": "scatter"
           }
          ],
          "scatter3d": [
           {
            "line": {
             "colorbar": {
              "outlinewidth": 0,
              "ticks": ""
             }
            },
            "marker": {
             "colorbar": {
              "outlinewidth": 0,
              "ticks": ""
             }
            },
            "type": "scatter3d"
           }
          ],
          "scattercarpet": [
           {
            "marker": {
             "colorbar": {
              "outlinewidth": 0,
              "ticks": ""
             }
            },
            "type": "scattercarpet"
           }
          ],
          "scattergeo": [
           {
            "marker": {
             "colorbar": {
              "outlinewidth": 0,
              "ticks": ""
             }
            },
            "type": "scattergeo"
           }
          ],
          "scattergl": [
           {
            "marker": {
             "colorbar": {
              "outlinewidth": 0,
              "ticks": ""
             }
            },
            "type": "scattergl"
           }
          ],
          "scattermapbox": [
           {
            "marker": {
             "colorbar": {
              "outlinewidth": 0,
              "ticks": ""
             }
            },
            "type": "scattermapbox"
           }
          ],
          "scatterpolar": [
           {
            "marker": {
             "colorbar": {
              "outlinewidth": 0,
              "ticks": ""
             }
            },
            "type": "scatterpolar"
           }
          ],
          "scatterpolargl": [
           {
            "marker": {
             "colorbar": {
              "outlinewidth": 0,
              "ticks": ""
             }
            },
            "type": "scatterpolargl"
           }
          ],
          "scatterternary": [
           {
            "marker": {
             "colorbar": {
              "outlinewidth": 0,
              "ticks": ""
             }
            },
            "type": "scatterternary"
           }
          ],
          "surface": [
           {
            "colorbar": {
             "outlinewidth": 0,
             "ticks": ""
            },
            "colorscale": [
             [
              0,
              "#0d0887"
             ],
             [
              0.1111111111111111,
              "#46039f"
             ],
             [
              0.2222222222222222,
              "#7201a8"
             ],
             [
              0.3333333333333333,
              "#9c179e"
             ],
             [
              0.4444444444444444,
              "#bd3786"
             ],
             [
              0.5555555555555556,
              "#d8576b"
             ],
             [
              0.6666666666666666,
              "#ed7953"
             ],
             [
              0.7777777777777778,
              "#fb9f3a"
             ],
             [
              0.8888888888888888,
              "#fdca26"
             ],
             [
              1,
              "#f0f921"
             ]
            ],
            "type": "surface"
           }
          ],
          "table": [
           {
            "cells": {
             "fill": {
              "color": "#EBF0F8"
             },
             "line": {
              "color": "white"
             }
            },
            "header": {
             "fill": {
              "color": "#C8D4E3"
             },
             "line": {
              "color": "white"
             }
            },
            "type": "table"
           }
          ]
         },
         "layout": {
          "annotationdefaults": {
           "arrowcolor": "#2a3f5f",
           "arrowhead": 0,
           "arrowwidth": 1
          },
          "autotypenumbers": "strict",
          "coloraxis": {
           "colorbar": {
            "outlinewidth": 0,
            "ticks": ""
           }
          },
          "colorscale": {
           "diverging": [
            [
             0,
             "#8e0152"
            ],
            [
             0.1,
             "#c51b7d"
            ],
            [
             0.2,
             "#de77ae"
            ],
            [
             0.3,
             "#f1b6da"
            ],
            [
             0.4,
             "#fde0ef"
            ],
            [
             0.5,
             "#f7f7f7"
            ],
            [
             0.6,
             "#e6f5d0"
            ],
            [
             0.7,
             "#b8e186"
            ],
            [
             0.8,
             "#7fbc41"
            ],
            [
             0.9,
             "#4d9221"
            ],
            [
             1,
             "#276419"
            ]
           ],
           "sequential": [
            [
             0,
             "#0d0887"
            ],
            [
             0.1111111111111111,
             "#46039f"
            ],
            [
             0.2222222222222222,
             "#7201a8"
            ],
            [
             0.3333333333333333,
             "#9c179e"
            ],
            [
             0.4444444444444444,
             "#bd3786"
            ],
            [
             0.5555555555555556,
             "#d8576b"
            ],
            [
             0.6666666666666666,
             "#ed7953"
            ],
            [
             0.7777777777777778,
             "#fb9f3a"
            ],
            [
             0.8888888888888888,
             "#fdca26"
            ],
            [
             1,
             "#f0f921"
            ]
           ],
           "sequentialminus": [
            [
             0,
             "#0d0887"
            ],
            [
             0.1111111111111111,
             "#46039f"
            ],
            [
             0.2222222222222222,
             "#7201a8"
            ],
            [
             0.3333333333333333,
             "#9c179e"
            ],
            [
             0.4444444444444444,
             "#bd3786"
            ],
            [
             0.5555555555555556,
             "#d8576b"
            ],
            [
             0.6666666666666666,
             "#ed7953"
            ],
            [
             0.7777777777777778,
             "#fb9f3a"
            ],
            [
             0.8888888888888888,
             "#fdca26"
            ],
            [
             1,
             "#f0f921"
            ]
           ]
          },
          "colorway": [
           "#636efa",
           "#EF553B",
           "#00cc96",
           "#ab63fa",
           "#FFA15A",
           "#19d3f3",
           "#FF6692",
           "#B6E880",
           "#FF97FF",
           "#FECB52"
          ],
          "font": {
           "color": "#2a3f5f"
          },
          "geo": {
           "bgcolor": "white",
           "lakecolor": "white",
           "landcolor": "#E5ECF6",
           "showlakes": true,
           "showland": true,
           "subunitcolor": "white"
          },
          "hoverlabel": {
           "align": "left"
          },
          "hovermode": "closest",
          "mapbox": {
           "style": "light"
          },
          "paper_bgcolor": "white",
          "plot_bgcolor": "#E5ECF6",
          "polar": {
           "angularaxis": {
            "gridcolor": "white",
            "linecolor": "white",
            "ticks": ""
           },
           "bgcolor": "#E5ECF6",
           "radialaxis": {
            "gridcolor": "white",
            "linecolor": "white",
            "ticks": ""
           }
          },
          "scene": {
           "xaxis": {
            "backgroundcolor": "#E5ECF6",
            "gridcolor": "white",
            "gridwidth": 2,
            "linecolor": "white",
            "showbackground": true,
            "ticks": "",
            "zerolinecolor": "white"
           },
           "yaxis": {
            "backgroundcolor": "#E5ECF6",
            "gridcolor": "white",
            "gridwidth": 2,
            "linecolor": "white",
            "showbackground": true,
            "ticks": "",
            "zerolinecolor": "white"
           },
           "zaxis": {
            "backgroundcolor": "#E5ECF6",
            "gridcolor": "white",
            "gridwidth": 2,
            "linecolor": "white",
            "showbackground": true,
            "ticks": "",
            "zerolinecolor": "white"
           }
          },
          "shapedefaults": {
           "line": {
            "color": "#2a3f5f"
           }
          },
          "ternary": {
           "aaxis": {
            "gridcolor": "white",
            "linecolor": "white",
            "ticks": ""
           },
           "baxis": {
            "gridcolor": "white",
            "linecolor": "white",
            "ticks": ""
           },
           "bgcolor": "#E5ECF6",
           "caxis": {
            "gridcolor": "white",
            "linecolor": "white",
            "ticks": ""
           }
          },
          "title": {
           "x": 0.05
          },
          "xaxis": {
           "automargin": true,
           "gridcolor": "white",
           "linecolor": "white",
           "ticks": "",
           "title": {
            "standoff": 15
           },
           "zerolinecolor": "white",
           "zerolinewidth": 2
          },
          "yaxis": {
           "automargin": true,
           "gridcolor": "white",
           "linecolor": "white",
           "ticks": "",
           "title": {
            "standoff": 15
           },
           "zerolinecolor": "white",
           "zerolinewidth": 2
          }
         }
        },
        "title": {
         "text": "Mean Cars and Home Values by Salary Range"
        },
        "xaxis": {
         "anchor": "y",
         "domain": [
          0,
          1
         ],
         "title": {
          "text": "Salary Range"
         }
        },
        "yaxis": {
         "anchor": "x",
         "domain": [
          0,
          1
         ],
         "title": {
          "text": "Mean Value"
         }
        }
       }
      }
     },
     "metadata": {},
     "output_type": "display_data"
    }
   ],
   "source": [
    "# Create a new column for salary range\n",
    "social_climbers_df['Salary Range'] = pd.cut(social_climbers_df['Salary'], bins=[0, 20, 40, 60, 80, 100, 120, 140, 160, 180],\n",
    "                            labels=['0-20k', '20-40k', '40-60k', '60-80', '80-100k', '100-120k', '120-140k', '140-160k', '160-180k'])\n",
    "\n",
    "# Group the data by salary range and calculate the mean of cars and home values for each group\n",
    "grouped_df = social_climbers_df.groupby('Salary Range').mean()[['Cars', 'Home']]\n",
    "\n",
    "# Reset the index to make salary range a column\n",
    "grouped_df = grouped_df.reset_index()\n",
    "\n",
    "# Create the plot\n",
    "fig = px.bar(grouped_df, x='Salary Range', y=['Cars', 'Home'], barmode='group',\n",
    "             title='Mean Cars and Home Values by Salary Range')\n",
    "fig.update_layout(xaxis_title='Salary Range', yaxis_title='Mean Value')\n",
    "fig.show()"
   ]
  },
  {
   "cell_type": "code",
   "execution_count": 47,
   "metadata": {},
   "outputs": [
    {
     "name": "stdout",
     "output_type": "stream",
     "text": [
      "          Salary      Cars      Home\n",
      "Salary  1.000000  0.542406  0.480883\n",
      "Cars    0.542406  1.000000  0.607065\n",
      "Home    0.480883  0.607065  1.000000\n"
     ]
    }
   ],
   "source": [
    "# Calculate the correlation coefficients between Salary, cars, and home\n",
    "corr_matrix = social_climbers_df[['Salary', 'Cars', 'Home']].corr()\n",
    "\n",
    "print(corr_matrix)"
   ]
  },
  {
   "attachments": {},
   "cell_type": "markdown",
   "metadata": {},
   "source": [
    "We can observe that as salary increases, the value of cars and home also increase. <br>\n",
    "However, the correlation between salary and home is weaker than the correlation between salary and cars. <br>"
   ]
  },
  {
   "attachments": {},
   "cell_type": "markdown",
   "metadata": {},
   "source": [
    "### 3. Higher education levels are associated with higher SCIndex scores"
   ]
  },
  {
   "cell_type": "code",
   "execution_count": 48,
   "metadata": {},
   "outputs": [
    {
     "name": "stdout",
     "output_type": "stream",
     "text": [
      "   EducLevel      mean  median       std\n",
      "0          1  3.300000     3.5  2.319256\n",
      "1          2  4.047059     4.0  2.389988\n",
      "2          3  5.348315     5.0  2.743178\n",
      "3          4  5.137500     5.0  2.519512\n"
     ]
    }
   ],
   "source": [
    "# Group the data by education level and calculate the mean, median, and standard deviation of SCIndex for each group\n",
    "grouped_df = social_climbers_df.groupby('EducLevel')['SCIndex'].agg(['mean', 'median', 'std'])\n",
    "\n",
    "# Reset the index to make education level a column\n",
    "grouped_df = grouped_df.reset_index()\n",
    "\n",
    "print(grouped_df)"
   ]
  },
  {
   "attachments": {},
   "cell_type": "markdown",
   "metadata": {},
   "source": [
    "The mean SCIndex increases with education level. Master's degree holders have the highest mean SCIndex of `5.35`, while High school graduates have the lowest mean SCIndex of `3.3`. The median SCIndex is similar across all education levels, with High school graduates having the lowest median SCIndex of `3.5`, and Master's and Doctorate degree holders having the highest median SCIndex of `5`. The standard deviation of SCIndex is highest for Master's degree holders, suggesting a wider range of SCIndex values for this education level. Overall, these results indicate that higher education levels are associated with higher SCIndex scores, reflecting a higher social status."
   ]
  },
  {
   "cell_type": "code",
   "execution_count": 49,
   "metadata": {},
   "outputs": [
    {
     "data": {
      "application/vnd.plotly.v1+json": {
       "config": {
        "plotlyServerURL": "https://plot.ly"
       },
       "data": [
        {
         "hovertemplate": "EducLevel=%{x}<br>SCIndex=%{y}<extra></extra>",
         "legendgroup": "",
         "marker": {
          "color": "#636efa",
          "symbol": "circle"
         },
         "mode": "markers",
         "name": "",
         "orientation": "v",
         "showlegend": false,
         "type": "scatter",
         "x": [
          4,
          2,
          2,
          3,
          4,
          2,
          3,
          4,
          2,
          2,
          4,
          3,
          2,
          3,
          4,
          2,
          4,
          1,
          2,
          3,
          4,
          2,
          3,
          4,
          3,
          2,
          3,
          3,
          3,
          4,
          3,
          4,
          1,
          2,
          1,
          2,
          4,
          2,
          3,
          4,
          3,
          3,
          4,
          3,
          1,
          4,
          2,
          2,
          1,
          2,
          2,
          3,
          4,
          2,
          3,
          2,
          3,
          1,
          3,
          4,
          2,
          2,
          4,
          4,
          2,
          2,
          2,
          3,
          3,
          3,
          3,
          1,
          3,
          3,
          4,
          4,
          2,
          1,
          4,
          4,
          2,
          1,
          3,
          3,
          3,
          2,
          2,
          4,
          3,
          2,
          3,
          2,
          4,
          4,
          4,
          4,
          3,
          4,
          4,
          3,
          3,
          4,
          2,
          2,
          3,
          2,
          3,
          2,
          3,
          3,
          1,
          4,
          4,
          2,
          2,
          3,
          3,
          2,
          3,
          2,
          3,
          4,
          4,
          3,
          2,
          1,
          2,
          2,
          4,
          2,
          2,
          4,
          4,
          2,
          3,
          2,
          3,
          2,
          4,
          3,
          3,
          3,
          4,
          2,
          4,
          3,
          2,
          4,
          4,
          3,
          3,
          4,
          2,
          4,
          4,
          3,
          2,
          4,
          2,
          3,
          2,
          2,
          4,
          4,
          4,
          2,
          3,
          4,
          4,
          3,
          3,
          3,
          2,
          2,
          4,
          2,
          4,
          3,
          2,
          3,
          3,
          3,
          3,
          2,
          3,
          1,
          4,
          4,
          2,
          2,
          4,
          2,
          2,
          2,
          2,
          4,
          4,
          3,
          3,
          1,
          3,
          2,
          4,
          4,
          2,
          2,
          1,
          4,
          4,
          3,
          3,
          3,
          3,
          2,
          4,
          2,
          3,
          2,
          1,
          3,
          3,
          2,
          4,
          3,
          2,
          2,
          2,
          3,
          4,
          2,
          3,
          2,
          3,
          3,
          4,
          3,
          2,
          3,
          2,
          1,
          4,
          4,
          2,
          3,
          4,
          1,
          2,
          4,
          3,
          1,
          4,
          2,
          4,
          3,
          1,
          4,
          3,
          4,
          3,
          3,
          3,
          4,
          4,
          1,
          3,
          4,
          3,
          3,
          2,
          2,
          4,
          4,
          4,
          2
         ],
         "xaxis": "x",
         "y": [
          3,
          3,
          5,
          7,
          7,
          2,
          7,
          9,
          2,
          6,
          3,
          10,
          1,
          8,
          4,
          1,
          2,
          1,
          4,
          10,
          8,
          6,
          4,
          4,
          5,
          7,
          4,
          4,
          10,
          3,
          1,
          1,
          1,
          6,
          7,
          1,
          9,
          3,
          5,
          3,
          4,
          6,
          2,
          1,
          1,
          8,
          2,
          2,
          6,
          3,
          6,
          4,
          6,
          9,
          2,
          3,
          9,
          4,
          3,
          8,
          5,
          4,
          2,
          2,
          2,
          5,
          8,
          3,
          10,
          3,
          7,
          4,
          2,
          8,
          2,
          2,
          3,
          8,
          6,
          7,
          5,
          1,
          2,
          6,
          6,
          5,
          6,
          8,
          8,
          6,
          8,
          2,
          6,
          4,
          3,
          4,
          10,
          3,
          6,
          1,
          8,
          4,
          4,
          1,
          4,
          1,
          9,
          5,
          7,
          1,
          1,
          6,
          5,
          1,
          3,
          8,
          7,
          7,
          10,
          7,
          6,
          8,
          9,
          5,
          8,
          3,
          4,
          5,
          2,
          2,
          5,
          4,
          3,
          1,
          5,
          9,
          1,
          2,
          7,
          10,
          7,
          7,
          10,
          8,
          2,
          7,
          5,
          9,
          5,
          6,
          2,
          5,
          5,
          5,
          10,
          4,
          9,
          6,
          2,
          3,
          1,
          2,
          8,
          5,
          6,
          2,
          4,
          1,
          2,
          7,
          1,
          1,
          1,
          4,
          6,
          1,
          7,
          1,
          5,
          6,
          7,
          5,
          5,
          2,
          7,
          5,
          10,
          6,
          7,
          3,
          3,
          7,
          1,
          4,
          8,
          5,
          4,
          2,
          6,
          4,
          5,
          4,
          3,
          10,
          3,
          9,
          5,
          6,
          3,
          3,
          3,
          6,
          5,
          4,
          2,
          5,
          6,
          6,
          1,
          8,
          8,
          3,
          3,
          5,
          4,
          6,
          1,
          2,
          4,
          1,
          3,
          1,
          6,
          4,
          2,
          5,
          4,
          1,
          4,
          6,
          6,
          10,
          4,
          6,
          8,
          4,
          4,
          6,
          4,
          1,
          4,
          5,
          6,
          2,
          2,
          2,
          6,
          2,
          10,
          2,
          9,
          6,
          9,
          1,
          8,
          6,
          2,
          10,
          1,
          9,
          4,
          5,
          6,
          1
         ],
         "yaxis": "y"
        },
        {
         "hovertemplate": "<b>OLS trendline</b><br>SCIndex = 0.622917 * EducLevel + 2.96713<br>R<sup>2</sup>=0.049211<br><br>EducLevel=%{x}<br>SCIndex=%{y} <b>(trend)</b><extra></extra>",
         "legendgroup": "",
         "marker": {
          "color": "#636efa",
          "symbol": "circle"
         },
         "mode": "lines",
         "name": "",
         "showlegend": false,
         "type": "scatter",
         "x": [
          1,
          1,
          1,
          1,
          1,
          1,
          1,
          1,
          1,
          1,
          1,
          1,
          1,
          1,
          1,
          1,
          1,
          1,
          1,
          1,
          2,
          2,
          2,
          2,
          2,
          2,
          2,
          2,
          2,
          2,
          2,
          2,
          2,
          2,
          2,
          2,
          2,
          2,
          2,
          2,
          2,
          2,
          2,
          2,
          2,
          2,
          2,
          2,
          2,
          2,
          2,
          2,
          2,
          2,
          2,
          2,
          2,
          2,
          2,
          2,
          2,
          2,
          2,
          2,
          2,
          2,
          2,
          2,
          2,
          2,
          2,
          2,
          2,
          2,
          2,
          2,
          2,
          2,
          2,
          2,
          2,
          2,
          2,
          2,
          2,
          2,
          2,
          2,
          2,
          2,
          2,
          2,
          2,
          2,
          2,
          2,
          2,
          2,
          2,
          2,
          2,
          2,
          2,
          2,
          2,
          3,
          3,
          3,
          3,
          3,
          3,
          3,
          3,
          3,
          3,
          3,
          3,
          3,
          3,
          3,
          3,
          3,
          3,
          3,
          3,
          3,
          3,
          3,
          3,
          3,
          3,
          3,
          3,
          3,
          3,
          3,
          3,
          3,
          3,
          3,
          3,
          3,
          3,
          3,
          3,
          3,
          3,
          3,
          3,
          3,
          3,
          3,
          3,
          3,
          3,
          3,
          3,
          3,
          3,
          3,
          3,
          3,
          3,
          3,
          3,
          3,
          3,
          3,
          3,
          3,
          3,
          3,
          3,
          3,
          3,
          3,
          3,
          3,
          3,
          3,
          3,
          3,
          3,
          3,
          3,
          3,
          3,
          3,
          3,
          3,
          3,
          3,
          3,
          3,
          4,
          4,
          4,
          4,
          4,
          4,
          4,
          4,
          4,
          4,
          4,
          4,
          4,
          4,
          4,
          4,
          4,
          4,
          4,
          4,
          4,
          4,
          4,
          4,
          4,
          4,
          4,
          4,
          4,
          4,
          4,
          4,
          4,
          4,
          4,
          4,
          4,
          4,
          4,
          4,
          4,
          4,
          4,
          4,
          4,
          4,
          4,
          4,
          4,
          4,
          4,
          4,
          4,
          4,
          4,
          4,
          4,
          4,
          4,
          4,
          4,
          4,
          4,
          4,
          4,
          4,
          4,
          4,
          4,
          4,
          4,
          4,
          4,
          4,
          4,
          4,
          4,
          4,
          4,
          4
         ],
         "xaxis": "x",
         "y": [
          3.5900468474003553,
          3.5900468474003553,
          3.5900468474003553,
          3.5900468474003553,
          3.5900468474003553,
          3.5900468474003553,
          3.5900468474003553,
          3.5900468474003553,
          3.5900468474003553,
          3.5900468474003553,
          3.5900468474003553,
          3.5900468474003553,
          3.5900468474003553,
          3.5900468474003553,
          3.5900468474003553,
          3.5900468474003553,
          3.5900468474003553,
          3.5900468474003553,
          3.5900468474003553,
          3.5900468474003553,
          4.212963674064973,
          4.212963674064973,
          4.212963674064973,
          4.212963674064973,
          4.212963674064973,
          4.212963674064973,
          4.212963674064973,
          4.212963674064973,
          4.212963674064973,
          4.212963674064973,
          4.212963674064973,
          4.212963674064973,
          4.212963674064973,
          4.212963674064973,
          4.212963674064973,
          4.212963674064973,
          4.212963674064973,
          4.212963674064973,
          4.212963674064973,
          4.212963674064973,
          4.212963674064973,
          4.212963674064973,
          4.212963674064973,
          4.212963674064973,
          4.212963674064973,
          4.212963674064973,
          4.212963674064973,
          4.212963674064973,
          4.212963674064973,
          4.212963674064973,
          4.212963674064973,
          4.212963674064973,
          4.212963674064973,
          4.212963674064973,
          4.212963674064973,
          4.212963674064973,
          4.212963674064973,
          4.212963674064973,
          4.212963674064973,
          4.212963674064973,
          4.212963674064973,
          4.212963674064973,
          4.212963674064973,
          4.212963674064973,
          4.212963674064973,
          4.212963674064973,
          4.212963674064973,
          4.212963674064973,
          4.212963674064973,
          4.212963674064973,
          4.212963674064973,
          4.212963674064973,
          4.212963674064973,
          4.212963674064973,
          4.212963674064973,
          4.212963674064973,
          4.212963674064973,
          4.212963674064973,
          4.212963674064973,
          4.212963674064973,
          4.212963674064973,
          4.212963674064973,
          4.212963674064973,
          4.212963674064973,
          4.212963674064973,
          4.212963674064973,
          4.212963674064973,
          4.212963674064973,
          4.212963674064973,
          4.212963674064973,
          4.212963674064973,
          4.212963674064973,
          4.212963674064973,
          4.212963674064973,
          4.212963674064973,
          4.212963674064973,
          4.212963674064973,
          4.212963674064973,
          4.212963674064973,
          4.212963674064973,
          4.212963674064973,
          4.212963674064973,
          4.212963674064973,
          4.212963674064973,
          4.212963674064973,
          4.8358805007295915,
          4.8358805007295915,
          4.8358805007295915,
          4.8358805007295915,
          4.8358805007295915,
          4.8358805007295915,
          4.8358805007295915,
          4.8358805007295915,
          4.8358805007295915,
          4.8358805007295915,
          4.8358805007295915,
          4.8358805007295915,
          4.8358805007295915,
          4.8358805007295915,
          4.8358805007295915,
          4.8358805007295915,
          4.8358805007295915,
          4.8358805007295915,
          4.8358805007295915,
          4.8358805007295915,
          4.8358805007295915,
          4.8358805007295915,
          4.8358805007295915,
          4.8358805007295915,
          4.8358805007295915,
          4.8358805007295915,
          4.8358805007295915,
          4.8358805007295915,
          4.8358805007295915,
          4.8358805007295915,
          4.8358805007295915,
          4.8358805007295915,
          4.8358805007295915,
          4.8358805007295915,
          4.8358805007295915,
          4.8358805007295915,
          4.8358805007295915,
          4.8358805007295915,
          4.8358805007295915,
          4.8358805007295915,
          4.8358805007295915,
          4.8358805007295915,
          4.8358805007295915,
          4.8358805007295915,
          4.8358805007295915,
          4.8358805007295915,
          4.8358805007295915,
          4.8358805007295915,
          4.8358805007295915,
          4.8358805007295915,
          4.8358805007295915,
          4.8358805007295915,
          4.8358805007295915,
          4.8358805007295915,
          4.8358805007295915,
          4.8358805007295915,
          4.8358805007295915,
          4.8358805007295915,
          4.8358805007295915,
          4.8358805007295915,
          4.8358805007295915,
          4.8358805007295915,
          4.8358805007295915,
          4.8358805007295915,
          4.8358805007295915,
          4.8358805007295915,
          4.8358805007295915,
          4.8358805007295915,
          4.8358805007295915,
          4.8358805007295915,
          4.8358805007295915,
          4.8358805007295915,
          4.8358805007295915,
          4.8358805007295915,
          4.8358805007295915,
          4.8358805007295915,
          4.8358805007295915,
          4.8358805007295915,
          4.8358805007295915,
          4.8358805007295915,
          4.8358805007295915,
          4.8358805007295915,
          4.8358805007295915,
          4.8358805007295915,
          4.8358805007295915,
          4.8358805007295915,
          4.8358805007295915,
          4.8358805007295915,
          4.8358805007295915,
          5.458797327394209,
          5.458797327394209,
          5.458797327394209,
          5.458797327394209,
          5.458797327394209,
          5.458797327394209,
          5.458797327394209,
          5.458797327394209,
          5.458797327394209,
          5.458797327394209,
          5.458797327394209,
          5.458797327394209,
          5.458797327394209,
          5.458797327394209,
          5.458797327394209,
          5.458797327394209,
          5.458797327394209,
          5.458797327394209,
          5.458797327394209,
          5.458797327394209,
          5.458797327394209,
          5.458797327394209,
          5.458797327394209,
          5.458797327394209,
          5.458797327394209,
          5.458797327394209,
          5.458797327394209,
          5.458797327394209,
          5.458797327394209,
          5.458797327394209,
          5.458797327394209,
          5.458797327394209,
          5.458797327394209,
          5.458797327394209,
          5.458797327394209,
          5.458797327394209,
          5.458797327394209,
          5.458797327394209,
          5.458797327394209,
          5.458797327394209,
          5.458797327394209,
          5.458797327394209,
          5.458797327394209,
          5.458797327394209,
          5.458797327394209,
          5.458797327394209,
          5.458797327394209,
          5.458797327394209,
          5.458797327394209,
          5.458797327394209,
          5.458797327394209,
          5.458797327394209,
          5.458797327394209,
          5.458797327394209,
          5.458797327394209,
          5.458797327394209,
          5.458797327394209,
          5.458797327394209,
          5.458797327394209,
          5.458797327394209,
          5.458797327394209,
          5.458797327394209,
          5.458797327394209,
          5.458797327394209,
          5.458797327394209,
          5.458797327394209,
          5.458797327394209,
          5.458797327394209,
          5.458797327394209,
          5.458797327394209,
          5.458797327394209,
          5.458797327394209,
          5.458797327394209,
          5.458797327394209,
          5.458797327394209,
          5.458797327394209,
          5.458797327394209,
          5.458797327394209,
          5.458797327394209,
          5.458797327394209
         ],
         "yaxis": "y"
        }
       ],
       "layout": {
        "legend": {
         "tracegroupgap": 0
        },
        "margin": {
         "t": 60
        },
        "template": {
         "data": {
          "bar": [
           {
            "error_x": {
             "color": "#2a3f5f"
            },
            "error_y": {
             "color": "#2a3f5f"
            },
            "marker": {
             "line": {
              "color": "#E5ECF6",
              "width": 0.5
             },
             "pattern": {
              "fillmode": "overlay",
              "size": 10,
              "solidity": 0.2
             }
            },
            "type": "bar"
           }
          ],
          "barpolar": [
           {
            "marker": {
             "line": {
              "color": "#E5ECF6",
              "width": 0.5
             },
             "pattern": {
              "fillmode": "overlay",
              "size": 10,
              "solidity": 0.2
             }
            },
            "type": "barpolar"
           }
          ],
          "carpet": [
           {
            "aaxis": {
             "endlinecolor": "#2a3f5f",
             "gridcolor": "white",
             "linecolor": "white",
             "minorgridcolor": "white",
             "startlinecolor": "#2a3f5f"
            },
            "baxis": {
             "endlinecolor": "#2a3f5f",
             "gridcolor": "white",
             "linecolor": "white",
             "minorgridcolor": "white",
             "startlinecolor": "#2a3f5f"
            },
            "type": "carpet"
           }
          ],
          "choropleth": [
           {
            "colorbar": {
             "outlinewidth": 0,
             "ticks": ""
            },
            "type": "choropleth"
           }
          ],
          "contour": [
           {
            "colorbar": {
             "outlinewidth": 0,
             "ticks": ""
            },
            "colorscale": [
             [
              0,
              "#0d0887"
             ],
             [
              0.1111111111111111,
              "#46039f"
             ],
             [
              0.2222222222222222,
              "#7201a8"
             ],
             [
              0.3333333333333333,
              "#9c179e"
             ],
             [
              0.4444444444444444,
              "#bd3786"
             ],
             [
              0.5555555555555556,
              "#d8576b"
             ],
             [
              0.6666666666666666,
              "#ed7953"
             ],
             [
              0.7777777777777778,
              "#fb9f3a"
             ],
             [
              0.8888888888888888,
              "#fdca26"
             ],
             [
              1,
              "#f0f921"
             ]
            ],
            "type": "contour"
           }
          ],
          "contourcarpet": [
           {
            "colorbar": {
             "outlinewidth": 0,
             "ticks": ""
            },
            "type": "contourcarpet"
           }
          ],
          "heatmap": [
           {
            "colorbar": {
             "outlinewidth": 0,
             "ticks": ""
            },
            "colorscale": [
             [
              0,
              "#0d0887"
             ],
             [
              0.1111111111111111,
              "#46039f"
             ],
             [
              0.2222222222222222,
              "#7201a8"
             ],
             [
              0.3333333333333333,
              "#9c179e"
             ],
             [
              0.4444444444444444,
              "#bd3786"
             ],
             [
              0.5555555555555556,
              "#d8576b"
             ],
             [
              0.6666666666666666,
              "#ed7953"
             ],
             [
              0.7777777777777778,
              "#fb9f3a"
             ],
             [
              0.8888888888888888,
              "#fdca26"
             ],
             [
              1,
              "#f0f921"
             ]
            ],
            "type": "heatmap"
           }
          ],
          "heatmapgl": [
           {
            "colorbar": {
             "outlinewidth": 0,
             "ticks": ""
            },
            "colorscale": [
             [
              0,
              "#0d0887"
             ],
             [
              0.1111111111111111,
              "#46039f"
             ],
             [
              0.2222222222222222,
              "#7201a8"
             ],
             [
              0.3333333333333333,
              "#9c179e"
             ],
             [
              0.4444444444444444,
              "#bd3786"
             ],
             [
              0.5555555555555556,
              "#d8576b"
             ],
             [
              0.6666666666666666,
              "#ed7953"
             ],
             [
              0.7777777777777778,
              "#fb9f3a"
             ],
             [
              0.8888888888888888,
              "#fdca26"
             ],
             [
              1,
              "#f0f921"
             ]
            ],
            "type": "heatmapgl"
           }
          ],
          "histogram": [
           {
            "marker": {
             "pattern": {
              "fillmode": "overlay",
              "size": 10,
              "solidity": 0.2
             }
            },
            "type": "histogram"
           }
          ],
          "histogram2d": [
           {
            "colorbar": {
             "outlinewidth": 0,
             "ticks": ""
            },
            "colorscale": [
             [
              0,
              "#0d0887"
             ],
             [
              0.1111111111111111,
              "#46039f"
             ],
             [
              0.2222222222222222,
              "#7201a8"
             ],
             [
              0.3333333333333333,
              "#9c179e"
             ],
             [
              0.4444444444444444,
              "#bd3786"
             ],
             [
              0.5555555555555556,
              "#d8576b"
             ],
             [
              0.6666666666666666,
              "#ed7953"
             ],
             [
              0.7777777777777778,
              "#fb9f3a"
             ],
             [
              0.8888888888888888,
              "#fdca26"
             ],
             [
              1,
              "#f0f921"
             ]
            ],
            "type": "histogram2d"
           }
          ],
          "histogram2dcontour": [
           {
            "colorbar": {
             "outlinewidth": 0,
             "ticks": ""
            },
            "colorscale": [
             [
              0,
              "#0d0887"
             ],
             [
              0.1111111111111111,
              "#46039f"
             ],
             [
              0.2222222222222222,
              "#7201a8"
             ],
             [
              0.3333333333333333,
              "#9c179e"
             ],
             [
              0.4444444444444444,
              "#bd3786"
             ],
             [
              0.5555555555555556,
              "#d8576b"
             ],
             [
              0.6666666666666666,
              "#ed7953"
             ],
             [
              0.7777777777777778,
              "#fb9f3a"
             ],
             [
              0.8888888888888888,
              "#fdca26"
             ],
             [
              1,
              "#f0f921"
             ]
            ],
            "type": "histogram2dcontour"
           }
          ],
          "mesh3d": [
           {
            "colorbar": {
             "outlinewidth": 0,
             "ticks": ""
            },
            "type": "mesh3d"
           }
          ],
          "parcoords": [
           {
            "line": {
             "colorbar": {
              "outlinewidth": 0,
              "ticks": ""
             }
            },
            "type": "parcoords"
           }
          ],
          "pie": [
           {
            "automargin": true,
            "type": "pie"
           }
          ],
          "scatter": [
           {
            "fillpattern": {
             "fillmode": "overlay",
             "size": 10,
             "solidity": 0.2
            },
            "type": "scatter"
           }
          ],
          "scatter3d": [
           {
            "line": {
             "colorbar": {
              "outlinewidth": 0,
              "ticks": ""
             }
            },
            "marker": {
             "colorbar": {
              "outlinewidth": 0,
              "ticks": ""
             }
            },
            "type": "scatter3d"
           }
          ],
          "scattercarpet": [
           {
            "marker": {
             "colorbar": {
              "outlinewidth": 0,
              "ticks": ""
             }
            },
            "type": "scattercarpet"
           }
          ],
          "scattergeo": [
           {
            "marker": {
             "colorbar": {
              "outlinewidth": 0,
              "ticks": ""
             }
            },
            "type": "scattergeo"
           }
          ],
          "scattergl": [
           {
            "marker": {
             "colorbar": {
              "outlinewidth": 0,
              "ticks": ""
             }
            },
            "type": "scattergl"
           }
          ],
          "scattermapbox": [
           {
            "marker": {
             "colorbar": {
              "outlinewidth": 0,
              "ticks": ""
             }
            },
            "type": "scattermapbox"
           }
          ],
          "scatterpolar": [
           {
            "marker": {
             "colorbar": {
              "outlinewidth": 0,
              "ticks": ""
             }
            },
            "type": "scatterpolar"
           }
          ],
          "scatterpolargl": [
           {
            "marker": {
             "colorbar": {
              "outlinewidth": 0,
              "ticks": ""
             }
            },
            "type": "scatterpolargl"
           }
          ],
          "scatterternary": [
           {
            "marker": {
             "colorbar": {
              "outlinewidth": 0,
              "ticks": ""
             }
            },
            "type": "scatterternary"
           }
          ],
          "surface": [
           {
            "colorbar": {
             "outlinewidth": 0,
             "ticks": ""
            },
            "colorscale": [
             [
              0,
              "#0d0887"
             ],
             [
              0.1111111111111111,
              "#46039f"
             ],
             [
              0.2222222222222222,
              "#7201a8"
             ],
             [
              0.3333333333333333,
              "#9c179e"
             ],
             [
              0.4444444444444444,
              "#bd3786"
             ],
             [
              0.5555555555555556,
              "#d8576b"
             ],
             [
              0.6666666666666666,
              "#ed7953"
             ],
             [
              0.7777777777777778,
              "#fb9f3a"
             ],
             [
              0.8888888888888888,
              "#fdca26"
             ],
             [
              1,
              "#f0f921"
             ]
            ],
            "type": "surface"
           }
          ],
          "table": [
           {
            "cells": {
             "fill": {
              "color": "#EBF0F8"
             },
             "line": {
              "color": "white"
             }
            },
            "header": {
             "fill": {
              "color": "#C8D4E3"
             },
             "line": {
              "color": "white"
             }
            },
            "type": "table"
           }
          ]
         },
         "layout": {
          "annotationdefaults": {
           "arrowcolor": "#2a3f5f",
           "arrowhead": 0,
           "arrowwidth": 1
          },
          "autotypenumbers": "strict",
          "coloraxis": {
           "colorbar": {
            "outlinewidth": 0,
            "ticks": ""
           }
          },
          "colorscale": {
           "diverging": [
            [
             0,
             "#8e0152"
            ],
            [
             0.1,
             "#c51b7d"
            ],
            [
             0.2,
             "#de77ae"
            ],
            [
             0.3,
             "#f1b6da"
            ],
            [
             0.4,
             "#fde0ef"
            ],
            [
             0.5,
             "#f7f7f7"
            ],
            [
             0.6,
             "#e6f5d0"
            ],
            [
             0.7,
             "#b8e186"
            ],
            [
             0.8,
             "#7fbc41"
            ],
            [
             0.9,
             "#4d9221"
            ],
            [
             1,
             "#276419"
            ]
           ],
           "sequential": [
            [
             0,
             "#0d0887"
            ],
            [
             0.1111111111111111,
             "#46039f"
            ],
            [
             0.2222222222222222,
             "#7201a8"
            ],
            [
             0.3333333333333333,
             "#9c179e"
            ],
            [
             0.4444444444444444,
             "#bd3786"
            ],
            [
             0.5555555555555556,
             "#d8576b"
            ],
            [
             0.6666666666666666,
             "#ed7953"
            ],
            [
             0.7777777777777778,
             "#fb9f3a"
            ],
            [
             0.8888888888888888,
             "#fdca26"
            ],
            [
             1,
             "#f0f921"
            ]
           ],
           "sequentialminus": [
            [
             0,
             "#0d0887"
            ],
            [
             0.1111111111111111,
             "#46039f"
            ],
            [
             0.2222222222222222,
             "#7201a8"
            ],
            [
             0.3333333333333333,
             "#9c179e"
            ],
            [
             0.4444444444444444,
             "#bd3786"
            ],
            [
             0.5555555555555556,
             "#d8576b"
            ],
            [
             0.6666666666666666,
             "#ed7953"
            ],
            [
             0.7777777777777778,
             "#fb9f3a"
            ],
            [
             0.8888888888888888,
             "#fdca26"
            ],
            [
             1,
             "#f0f921"
            ]
           ]
          },
          "colorway": [
           "#636efa",
           "#EF553B",
           "#00cc96",
           "#ab63fa",
           "#FFA15A",
           "#19d3f3",
           "#FF6692",
           "#B6E880",
           "#FF97FF",
           "#FECB52"
          ],
          "font": {
           "color": "#2a3f5f"
          },
          "geo": {
           "bgcolor": "white",
           "lakecolor": "white",
           "landcolor": "#E5ECF6",
           "showlakes": true,
           "showland": true,
           "subunitcolor": "white"
          },
          "hoverlabel": {
           "align": "left"
          },
          "hovermode": "closest",
          "mapbox": {
           "style": "light"
          },
          "paper_bgcolor": "white",
          "plot_bgcolor": "#E5ECF6",
          "polar": {
           "angularaxis": {
            "gridcolor": "white",
            "linecolor": "white",
            "ticks": ""
           },
           "bgcolor": "#E5ECF6",
           "radialaxis": {
            "gridcolor": "white",
            "linecolor": "white",
            "ticks": ""
           }
          },
          "scene": {
           "xaxis": {
            "backgroundcolor": "#E5ECF6",
            "gridcolor": "white",
            "gridwidth": 2,
            "linecolor": "white",
            "showbackground": true,
            "ticks": "",
            "zerolinecolor": "white"
           },
           "yaxis": {
            "backgroundcolor": "#E5ECF6",
            "gridcolor": "white",
            "gridwidth": 2,
            "linecolor": "white",
            "showbackground": true,
            "ticks": "",
            "zerolinecolor": "white"
           },
           "zaxis": {
            "backgroundcolor": "#E5ECF6",
            "gridcolor": "white",
            "gridwidth": 2,
            "linecolor": "white",
            "showbackground": true,
            "ticks": "",
            "zerolinecolor": "white"
           }
          },
          "shapedefaults": {
           "line": {
            "color": "#2a3f5f"
           }
          },
          "ternary": {
           "aaxis": {
            "gridcolor": "white",
            "linecolor": "white",
            "ticks": ""
           },
           "baxis": {
            "gridcolor": "white",
            "linecolor": "white",
            "ticks": ""
           },
           "bgcolor": "#E5ECF6",
           "caxis": {
            "gridcolor": "white",
            "linecolor": "white",
            "ticks": ""
           }
          },
          "title": {
           "x": 0.05
          },
          "xaxis": {
           "automargin": true,
           "gridcolor": "white",
           "linecolor": "white",
           "ticks": "",
           "title": {
            "standoff": 15
           },
           "zerolinecolor": "white",
           "zerolinewidth": 2
          },
          "yaxis": {
           "automargin": true,
           "gridcolor": "white",
           "linecolor": "white",
           "ticks": "",
           "title": {
            "standoff": 15
           },
           "zerolinecolor": "white",
           "zerolinewidth": 2
          }
         }
        },
        "xaxis": {
         "anchor": "y",
         "domain": [
          0,
          1
         ],
         "title": {
          "text": "Education Level"
         }
        },
        "yaxis": {
         "anchor": "x",
         "domain": [
          0,
          1
         ],
         "title": {
          "text": "SC Index"
         }
        }
       }
      }
     },
     "metadata": {},
     "output_type": "display_data"
    }
   ],
   "source": [
    "# Create a scatter plot to visualize the relationship between education levels and SCIndex scores\n",
    "fig = px.scatter(social_climbers_df, x='EducLevel', y='SCIndex', trendline='ols')\n",
    "fig.update_layout(xaxis_title='Education Level', yaxis_title='SC Index')\n",
    "fig.show()"
   ]
  },
  {
   "attachments": {},
   "cell_type": "markdown",
   "metadata": {},
   "source": [
    "### 4. Higher salaries are associated with higher SCIndex scores"
   ]
  },
  {
   "cell_type": "code",
   "execution_count": 50,
   "metadata": {},
   "outputs": [
    {
     "data": {
      "image/png": "[encoded data removed]",
      "text/plain": [
       "<Figure size 640x480 with 1 Axes>"
      ]
     },
     "metadata": {},
     "output_type": "display_data"
    }
   ],
   "source": [
    "# create a regression plot comparing salary and SCIndex score\n",
    "sns.regplot(x='Salary', y='SCIndex', data=social_climbers_df)\n",
    "plt.ylim(0, None)\n",
    "plt.show()"
   ]
  },
  {
   "cell_type": "code",
   "execution_count": 51,
   "metadata": {},
   "outputs": [
    {
     "name": "stdout",
     "output_type": "stream",
     "text": [
      "           Salary   SCIndex\n",
      "Salary   1.000000  0.796737\n",
      "SCIndex  0.796737  1.000000\n"
     ]
    }
   ],
   "source": [
    "# Calculate the correlation coefficients between Salary, ScIndex\n",
    "corr_matrix = social_climbers_df[['Salary', 'SCIndex']].corr()\n",
    "print(corr_matrix)"
   ]
  },
  {
   "attachments": {},
   "cell_type": "markdown",
   "metadata": {},
   "source": [
    "The regression plot and correlation coefficient value of `0.796737` clearly show a strong positive relationship between the salary of the couple and their social climber score. This means that as the salary of the couple increases, their concern for social status also increases. The correlation coefficient value of `0.796737` indicates a strong positive correlation between the two variables. This is further supported by the scatter plot, which shows a clear upward trend in the data points.\n"
   ]
  },
  {
   "attachments": {},
   "cell_type": "markdown",
   "metadata": {},
   "source": [
    "\n",
    "### Conclusion\n",
    "\n",
    "Based on our analysis of the `Social Climbers` dataset, we can draw the following conclusions:\n",
    "\n",
    "1. **Education level affects salary and savings**: There is a positive correlation between education level and yearly salary, indicating that couples with higher education levels tend to have higher yearly salaries. However, there is a negative correlation between education level and yearly savings, suggesting that couples with higher education levels may prioritize spending over saving.\n",
    "\n",
    "2. **Higher salaries are associated with more cars and larger homes**: There is a positive correlation between salary and the value of cars and homes, indicating that couples with higher salaries tend to own more cars and have larger homes. However, the correlation between salary and home is weaker than the correlation between salary and cars.\n",
    "\n",
    "3. **Higher education levels are associated with higher SCIndex scores**: The mean SCIndex increases with education level, indicating that couples with higher education levels are more likely to have higher Social Climbers Index (SCIndex) scores, reflecting a higher social status.\n",
    "\n",
    "4. **Higher salaries are associated with higher SCIndex scores**: There is a strong positive correlation between the salary of the couple and their social climber score, indicating that as the salary of the couple increases, their concern for social status also increases.\n",
    "\n",
    "These findings provide valuable insights into the social dynamics and lifestyle choices of couples based on their education level and salary. They highlight the importance of education and income in shaping social status and lifestyle choices.\n",
    "\n",
    "Next, we will analyze the `Artsy Lawsuit` dataset to assess the validity of the discrimination lawsuit against Artsy Corporation.\n"
   ]
  },
  {
   "attachments": {},
   "cell_type": "markdown",
   "metadata": {},
   "source": [
    "# Artsy Lawsuit"
   ]
  },
  {
   "attachments": {},
   "cell_type": "markdown",
   "metadata": {},
   "source": [
    "Artsy Corporation is facing a lawsuit for sex discrimination in employment. The plaintiffs claim that Artsy discriminated against women in various aspects of their employment. <br>\n",
    "By utilizing Artsy's hiring data, we will analyze the company's information regarding the discrimination lawsuit.<br><br>Our goal is to assess the validity of the case through statistical analysis of gender-based disparities in hiring and pay."
   ]
  },
  {
   "cell_type": "code",
   "execution_count": 52,
   "metadata": {},
   "outputs": [],
   "source": [
    "# Load the dataset\n",
    "artsy_df = pd.read_csv('../data/artsy_lawsuit_solved.csv')"
   ]
  },
  {
   "cell_type": "code",
   "execution_count": 53,
   "metadata": {},
   "outputs": [
    {
     "name": "stdout",
     "output_type": "stream",
     "text": [
      "   ID     RATE  GRADE  TinGRADE  SEX\n",
      "0   1   865.38      2       1.5    0\n",
      "1   2   819.90      4       0.5    0\n",
      "2   3   675.00      2       1.5    0\n",
      "3   4  1494.24      8       1.5    1\n",
      "4   5   729.72      4       0.5    1\n",
      "ID            int64\n",
      "RATE        float64\n",
      "GRADE         int64\n",
      "TinGRADE    float64\n",
      "SEX           int64\n",
      "dtype: object\n",
      "               ID         RATE       GRADE    TinGRADE         SEX\n",
      "count  256.000000   256.000000  256.000000  256.000000  256.000000\n",
      "mean   128.500000   930.846797    4.410156    1.731641    0.332031\n",
      "std     74.045031   229.401327    2.233377    1.502095    0.471865\n",
      "min      1.000000   578.760000    1.000000    0.000000    0.000000\n",
      "25%     64.750000   761.550000    2.000000    0.500000    0.000000\n",
      "50%    128.500000   866.130000    4.500000    1.500000    0.000000\n",
      "75%    192.250000  1074.540000    7.000000    2.500000    1.000000\n",
      "max    256.000000  1551.930000    8.000000    5.000000    1.000000\n"
     ]
    }
   ],
   "source": [
    "# Check the first few rows\n",
    "print(artsy_df.head())\n",
    "\n",
    "# Check the data types\n",
    "print(artsy_df.dtypes)\n",
    "\n",
    "# Check the summary statistics\n",
    "print(artsy_df.describe())"
   ]
  },
  {
   "attachments": {},
   "cell_type": "markdown",
   "metadata": {},
   "source": [
    "Our dataset contains 256 records. The data file consists of five fields separated by commas. Each row represents an employee at Artsy, with the following fields: <br><br>\n",
    "\n",
    "1. **ID**: A unique identifier for each employee.\n",
    "2. **RATE**: The pay rate for each employee.\n",
    "3. **GRADE**: The job grade for each employee.\n",
    "4. **TinGRADE**: The performance grade for each employee.\n",
    "5. **SEX**: The gender of each employee, where `0` represents female and `1` represents male."
   ]
  },
  {
   "cell_type": "code",
   "execution_count": 54,
   "metadata": {},
   "outputs": [
    {
     "data": {
      "application/vnd.plotly.v1+json": {
       "config": {
        "plotlyServerURL": "https://plot.ly"
       },
       "data": [
        {
         "alignmentgroup": "True",
         "hovertemplate": "Gender=%{x}<br>Pay Rate=%{y}<extra></extra>",
         "legendgroup": "0",
         "marker": {
          "color": "#636efa"
         },
         "name": "0",
         "notched": false,
         "offsetgroup": "0",
         "orientation": "v",
         "showlegend": true,
         "type": "box",
         "x": [
          0,
          0,
          0,
          0,
          0,
          0,
          0,
          0,
          0,
          0,
          0,
          0,
          0,
          0,
          0,
          0,
          0,
          0,
          0,
          0,
          0,
          0,
          0,
          0,
          0,
          0,
          0,
          0,
          0,
          0,
          0,
          0,
          0,
          0,
          0,
          0,
          0,
          0,
          0,
          0,
          0,
          0,
          0,
          0,
          0,
          0,
          0,
          0,
          0,
          0,
          0,
          0,
          0,
          0,
          0,
          0,
          0,
          0,
          0,
          0,
          0,
          0,
          0,
          0,
          0,
          0,
          0,
          0,
          0,
          0,
          0,
          0,
          0,
          0,
          0,
          0,
          0,
          0,
          0,
          0,
          0,
          0,
          0,
          0,
          0,
          0,
          0,
          0,
          0,
          0,
          0,
          0,
          0,
          0,
          0,
          0,
          0,
          0,
          0,
          0,
          0,
          0,
          0,
          0,
          0,
          0,
          0,
          0,
          0,
          0,
          0,
          0,
          0,
          0,
          0,
          0,
          0,
          0,
          0,
          0,
          0,
          0,
          0,
          0,
          0,
          0,
          0,
          0,
          0,
          0,
          0,
          0,
          0,
          0,
          0,
          0,
          0,
          0,
          0,
          0,
          0,
          0,
          0,
          0,
          0,
          0,
          0,
          0,
          0,
          0,
          0,
          0,
          0,
          0,
          0,
          0,
          0,
          0,
          0,
          0,
          0,
          0,
          0,
          0,
          0,
          0,
          0,
          0,
          0,
          0,
          0
         ],
         "x0": " ",
         "xaxis": "x",
         "y": [
          865.38,
          819.9,
          675,
          709.5,
          692.31,
          722.64,
          726.93,
          692.31,
          795,
          867,
          778.86,
          705.57,
          735,
          780,
          692.31,
          946.17,
          747,
          789,
          923.1,
          692.31,
          648,
          1067.31,
          882.48,
          1035.42,
          657.69,
          616.17,
          924,
          761.55,
          1050,
          1182.72,
          990,
          834,
          813.6,
          840,
          692.31,
          836.55,
          813.48,
          963.45,
          747,
          915.57,
          951.93,
          853.83,
          660.45,
          628.26,
          761.55,
          885,
          865.38,
          825,
          848.1,
          681.93,
          729.72,
          813.48,
          894.24,
          825,
          892.5,
          687,
          796.17,
          702,
          788.04,
          778.86,
          795,
          780.24,
          810,
          630,
          729.72,
          816,
          723.48,
          894.24,
          602.31,
          1003.86,
          840,
          756,
          770.19,
          750,
          687,
          900,
          780,
          911.55,
          709.65,
          787.5,
          807.72,
          807.69,
          1024.29,
          588.48,
          905.79,
          801.93,
          612,
          1001.55,
          931.74,
          729.72,
          1365,
          810,
          856.17,
          624,
          865.41,
          697.86,
          1237.5,
          990,
          818.1,
          687,
          1067.31,
          866.85,
          1081.74,
          830.79,
          692.31,
          836.55,
          735,
          1073.1,
          709.62,
          923.1,
          1200,
          804,
          590.19,
          913.86,
          588.48,
          780,
          623.1,
          717,
          761.55,
          778.86,
          770.55,
          1360.08,
          616.17,
          634.62,
          817.26,
          713.1,
          951.93,
          630,
          901.14,
          578.76,
          951.93,
          663.48,
          1038.48,
          720,
          755.76,
          597.12,
          623.1,
          756,
          1148.1,
          1050,
          858,
          1390.41,
          894.24,
          842.31,
          1073.1,
          690,
          960.6,
          761.55,
          900,
          1096.17,
          931.74,
          1055.76,
          764.43,
          1078.86,
          690,
          836.55,
          928.86,
          835.11,
          886.17,
          928.86,
          729.72,
          761.55,
          1052.88,
          1188.48,
          980.79,
          950.79,
          605.79,
          805.86,
          720,
          980.79,
          1038.45
         ],
         "y0": " ",
         "yaxis": "y"
        },
        {
         "alignmentgroup": "True",
         "hovertemplate": "Gender=%{x}<br>Pay Rate=%{y}<extra></extra>",
         "legendgroup": "1",
         "marker": {
          "color": "#EF553B"
         },
         "name": "1",
         "notched": false,
         "offsetgroup": "1",
         "orientation": "v",
         "showlegend": true,
         "type": "box",
         "x": [
          1,
          1,
          1,
          1,
          1,
          1,
          1,
          1,
          1,
          1,
          1,
          1,
          1,
          1,
          1,
          1,
          1,
          1,
          1,
          1,
          1,
          1,
          1,
          1,
          1,
          1,
          1,
          1,
          1,
          1,
          1,
          1,
          1,
          1,
          1,
          1,
          1,
          1,
          1,
          1,
          1,
          1,
          1,
          1,
          1,
          1,
          1,
          1,
          1,
          1,
          1,
          1,
          1,
          1,
          1,
          1,
          1,
          1,
          1,
          1,
          1,
          1,
          1,
          1,
          1,
          1,
          1,
          1,
          1,
          1,
          1,
          1,
          1,
          1,
          1,
          1,
          1,
          1,
          1,
          1,
          1,
          1,
          1,
          1,
          1
         ],
         "x0": " ",
         "xaxis": "x",
         "y": [
          1494.24,
          729.72,
          1142.31,
          1413.45,
          825,
          1057.38,
          1052.31,
          1254.81,
          1263.99,
          1409.85,
          1110,
          870,
          885,
          909,
          859.62,
          928.86,
          1223.1,
          907.2,
          1119.24,
          1500,
          739.62,
          1368.24,
          1384.62,
          1263.48,
          1153.86,
          1263.48,
          825,
          830.76,
          1174.14,
          1056.6,
          1230,
          1176.93,
          1240.41,
          1518.75,
          1500,
          805.83,
          801,
          1110,
          819.24,
          1228.86,
          1065,
          1171.5,
          957.72,
          1275,
          1135.38,
          1427.91,
          1275,
          1174.02,
          1263.48,
          1338.48,
          1230,
          1551.93,
          1176.93,
          1190.79,
          1269.24,
          729.72,
          1350,
          1384.62,
          1128,
          1396.17,
          1130.76,
          894,
          1153.83,
          1350,
          1427.91,
          812.73,
          739.62,
          1375.98,
          1125,
          1390.41,
          960,
          804,
          1157.91,
          1003.86,
          951.93,
          1200,
          1130.76,
          990,
          1419.24,
          1257.72,
          804,
          819,
          1182.72,
          805.86,
          1070.22
         ],
         "y0": " ",
         "yaxis": "y"
        }
       ],
       "layout": {
        "boxmode": "overlay",
        "legend": {
         "title": {
          "text": "Gender"
         },
         "tracegroupgap": 0
        },
        "margin": {
         "t": 60
        },
        "template": {
         "data": {
          "bar": [
           {
            "error_x": {
             "color": "#2a3f5f"
            },
            "error_y": {
             "color": "#2a3f5f"
            },
            "marker": {
             "line": {
              "color": "#E5ECF6",
              "width": 0.5
             },
             "pattern": {
              "fillmode": "overlay",
              "size": 10,
              "solidity": 0.2
             }
            },
            "type": "bar"
           }
          ],
          "barpolar": [
           {
            "marker": {
             "line": {
              "color": "#E5ECF6",
              "width": 0.5
             },
             "pattern": {
              "fillmode": "overlay",
              "size": 10,
              "solidity": 0.2
             }
            },
            "type": "barpolar"
           }
          ],
          "carpet": [
           {
            "aaxis": {
             "endlinecolor": "#2a3f5f",
             "gridcolor": "white",
             "linecolor": "white",
             "minorgridcolor": "white",
             "startlinecolor": "#2a3f5f"
            },
            "baxis": {
             "endlinecolor": "#2a3f5f",
             "gridcolor": "white",
             "linecolor": "white",
             "minorgridcolor": "white",
             "startlinecolor": "#2a3f5f"
            },
            "type": "carpet"
           }
          ],
          "choropleth": [
           {
            "colorbar": {
             "outlinewidth": 0,
             "ticks": ""
            },
            "type": "choropleth"
           }
          ],
          "contour": [
           {
            "colorbar": {
             "outlinewidth": 0,
             "ticks": ""
            },
            "colorscale": [
             [
              0,
              "#0d0887"
             ],
             [
              0.1111111111111111,
              "#46039f"
             ],
             [
              0.2222222222222222,
              "#7201a8"
             ],
             [
              0.3333333333333333,
              "#9c179e"
             ],
             [
              0.4444444444444444,
              "#bd3786"
             ],
             [
              0.5555555555555556,
              "#d8576b"
             ],
             [
              0.6666666666666666,
              "#ed7953"
             ],
             [
              0.7777777777777778,
              "#fb9f3a"
             ],
             [
              0.8888888888888888,
              "#fdca26"
             ],
             [
              1,
              "#f0f921"
             ]
            ],
            "type": "contour"
           }
          ],
          "contourcarpet": [
           {
            "colorbar": {
             "outlinewidth": 0,
             "ticks": ""
            },
            "type": "contourcarpet"
           }
          ],
          "heatmap": [
           {
            "colorbar": {
             "outlinewidth": 0,
             "ticks": ""
            },
            "colorscale": [
             [
              0,
              "#0d0887"
             ],
             [
              0.1111111111111111,
              "#46039f"
             ],
             [
              0.2222222222222222,
              "#7201a8"
             ],
             [
              0.3333333333333333,
              "#9c179e"
             ],
             [
              0.4444444444444444,
              "#bd3786"
             ],
             [
              0.5555555555555556,
              "#d8576b"
             ],
             [
              0.6666666666666666,
              "#ed7953"
             ],
             [
              0.7777777777777778,
              "#fb9f3a"
             ],
             [
              0.8888888888888888,
              "#fdca26"
             ],
             [
              1,
              "#f0f921"
             ]
            ],
            "type": "heatmap"
           }
          ],
          "heatmapgl": [
           {
            "colorbar": {
             "outlinewidth": 0,
             "ticks": ""
            },
            "colorscale": [
             [
              0,
              "#0d0887"
             ],
             [
              0.1111111111111111,
              "#46039f"
             ],
             [
              0.2222222222222222,
              "#7201a8"
             ],
             [
              0.3333333333333333,
              "#9c179e"
             ],
             [
              0.4444444444444444,
              "#bd3786"
             ],
             [
              0.5555555555555556,
              "#d8576b"
             ],
             [
              0.6666666666666666,
              "#ed7953"
             ],
             [
              0.7777777777777778,
              "#fb9f3a"
             ],
             [
              0.8888888888888888,
              "#fdca26"
             ],
             [
              1,
              "#f0f921"
             ]
            ],
            "type": "heatmapgl"
           }
          ],
          "histogram": [
           {
            "marker": {
             "pattern": {
              "fillmode": "overlay",
              "size": 10,
              "solidity": 0.2
             }
            },
            "type": "histogram"
           }
          ],
          "histogram2d": [
           {
            "colorbar": {
             "outlinewidth": 0,
             "ticks": ""
            },
            "colorscale": [
             [
              0,
              "#0d0887"
             ],
             [
              0.1111111111111111,
              "#46039f"
             ],
             [
              0.2222222222222222,
              "#7201a8"
             ],
             [
              0.3333333333333333,
              "#9c179e"
             ],
             [
              0.4444444444444444,
              "#bd3786"
             ],
             [
              0.5555555555555556,
              "#d8576b"
             ],
             [
              0.6666666666666666,
              "#ed7953"
             ],
             [
              0.7777777777777778,
              "#fb9f3a"
             ],
             [
              0.8888888888888888,
              "#fdca26"
             ],
             [
              1,
              "#f0f921"
             ]
            ],
            "type": "histogram2d"
           }
          ],
          "histogram2dcontour": [
           {
            "colorbar": {
             "outlinewidth": 0,
             "ticks": ""
            },
            "colorscale": [
             [
              0,
              "#0d0887"
             ],
             [
              0.1111111111111111,
              "#46039f"
             ],
             [
              0.2222222222222222,
              "#7201a8"
             ],
             [
              0.3333333333333333,
              "#9c179e"
             ],
             [
              0.4444444444444444,
              "#bd3786"
             ],
             [
              0.5555555555555556,
              "#d8576b"
             ],
             [
              0.6666666666666666,
              "#ed7953"
             ],
             [
              0.7777777777777778,
              "#fb9f3a"
             ],
             [
              0.8888888888888888,
              "#fdca26"
             ],
             [
              1,
              "#f0f921"
             ]
            ],
            "type": "histogram2dcontour"
           }
          ],
          "mesh3d": [
           {
            "colorbar": {
             "outlinewidth": 0,
             "ticks": ""
            },
            "type": "mesh3d"
           }
          ],
          "parcoords": [
           {
            "line": {
             "colorbar": {
              "outlinewidth": 0,
              "ticks": ""
             }
            },
            "type": "parcoords"
           }
          ],
          "pie": [
           {
            "automargin": true,
            "type": "pie"
           }
          ],
          "scatter": [
           {
            "fillpattern": {
             "fillmode": "overlay",
             "size": 10,
             "solidity": 0.2
            },
            "type": "scatter"
           }
          ],
          "scatter3d": [
           {
            "line": {
             "colorbar": {
              "outlinewidth": 0,
              "ticks": ""
             }
            },
            "marker": {
             "colorbar": {
              "outlinewidth": 0,
              "ticks": ""
             }
            },
            "type": "scatter3d"
           }
          ],
          "scattercarpet": [
           {
            "marker": {
             "colorbar": {
              "outlinewidth": 0,
              "ticks": ""
             }
            },
            "type": "scattercarpet"
           }
          ],
          "scattergeo": [
           {
            "marker": {
             "colorbar": {
              "outlinewidth": 0,
              "ticks": ""
             }
            },
            "type": "scattergeo"
           }
          ],
          "scattergl": [
           {
            "marker": {
             "colorbar": {
              "outlinewidth": 0,
              "ticks": ""
             }
            },
            "type": "scattergl"
           }
          ],
          "scattermapbox": [
           {
            "marker": {
             "colorbar": {
              "outlinewidth": 0,
              "ticks": ""
             }
            },
            "type": "scattermapbox"
           }
          ],
          "scatterpolar": [
           {
            "marker": {
             "colorbar": {
              "outlinewidth": 0,
              "ticks": ""
             }
            },
            "type": "scatterpolar"
           }
          ],
          "scatterpolargl": [
           {
            "marker": {
             "colorbar": {
              "outlinewidth": 0,
              "ticks": ""
             }
            },
            "type": "scatterpolargl"
           }
          ],
          "scatterternary": [
           {
            "marker": {
             "colorbar": {
              "outlinewidth": 0,
              "ticks": ""
             }
            },
            "type": "scatterternary"
           }
          ],
          "surface": [
           {
            "colorbar": {
             "outlinewidth": 0,
             "ticks": ""
            },
            "colorscale": [
             [
              0,
              "#0d0887"
             ],
             [
              0.1111111111111111,
              "#46039f"
             ],
             [
              0.2222222222222222,
              "#7201a8"
             ],
             [
              0.3333333333333333,
              "#9c179e"
             ],
             [
              0.4444444444444444,
              "#bd3786"
             ],
             [
              0.5555555555555556,
              "#d8576b"
             ],
             [
              0.6666666666666666,
              "#ed7953"
             ],
             [
              0.7777777777777778,
              "#fb9f3a"
             ],
             [
              0.8888888888888888,
              "#fdca26"
             ],
             [
              1,
              "#f0f921"
             ]
            ],
            "type": "surface"
           }
          ],
          "table": [
           {
            "cells": {
             "fill": {
              "color": "#EBF0F8"
             },
             "line": {
              "color": "white"
             }
            },
            "header": {
             "fill": {
              "color": "#C8D4E3"
             },
             "line": {
              "color": "white"
             }
            },
            "type": "table"
           }
          ]
         },
         "layout": {
          "annotationdefaults": {
           "arrowcolor": "#2a3f5f",
           "arrowhead": 0,
           "arrowwidth": 1
          },
          "autotypenumbers": "strict",
          "coloraxis": {
           "colorbar": {
            "outlinewidth": 0,
            "ticks": ""
           }
          },
          "colorscale": {
           "diverging": [
            [
             0,
             "#8e0152"
            ],
            [
             0.1,
             "#c51b7d"
            ],
            [
             0.2,
             "#de77ae"
            ],
            [
             0.3,
             "#f1b6da"
            ],
            [
             0.4,
             "#fde0ef"
            ],
            [
             0.5,
             "#f7f7f7"
            ],
            [
             0.6,
             "#e6f5d0"
            ],
            [
             0.7,
             "#b8e186"
            ],
            [
             0.8,
             "#7fbc41"
            ],
            [
             0.9,
             "#4d9221"
            ],
            [
             1,
             "#276419"
            ]
           ],
           "sequential": [
            [
             0,
             "#0d0887"
            ],
            [
             0.1111111111111111,
             "#46039f"
            ],
            [
             0.2222222222222222,
             "#7201a8"
            ],
            [
             0.3333333333333333,
             "#9c179e"
            ],
            [
             0.4444444444444444,
             "#bd3786"
            ],
            [
             0.5555555555555556,
             "#d8576b"
            ],
            [
             0.6666666666666666,
             "#ed7953"
            ],
            [
             0.7777777777777778,
             "#fb9f3a"
            ],
            [
             0.8888888888888888,
             "#fdca26"
            ],
            [
             1,
             "#f0f921"
            ]
           ],
           "sequentialminus": [
            [
             0,
             "#0d0887"
            ],
            [
             0.1111111111111111,
             "#46039f"
            ],
            [
             0.2222222222222222,
             "#7201a8"
            ],
            [
             0.3333333333333333,
             "#9c179e"
            ],
            [
             0.4444444444444444,
             "#bd3786"
            ],
            [
             0.5555555555555556,
             "#d8576b"
            ],
            [
             0.6666666666666666,
             "#ed7953"
            ],
            [
             0.7777777777777778,
             "#fb9f3a"
            ],
            [
             0.8888888888888888,
             "#fdca26"
            ],
            [
             1,
             "#f0f921"
            ]
           ]
          },
          "colorway": [
           "#636efa",
           "#EF553B",
           "#00cc96",
           "#ab63fa",
           "#FFA15A",
           "#19d3f3",
           "#FF6692",
           "#B6E880",
           "#FF97FF",
           "#FECB52"
          ],
          "font": {
           "color": "#2a3f5f"
          },
          "geo": {
           "bgcolor": "white",
           "lakecolor": "white",
           "landcolor": "#E5ECF6",
           "showlakes": true,
           "showland": true,
           "subunitcolor": "white"
          },
          "hoverlabel": {
           "align": "left"
          },
          "hovermode": "closest",
          "mapbox": {
           "style": "light"
          },
          "paper_bgcolor": "white",
          "plot_bgcolor": "#E5ECF6",
          "polar": {
           "angularaxis": {
            "gridcolor": "white",
            "linecolor": "white",
            "ticks": ""
           },
           "bgcolor": "#E5ECF6",
           "radialaxis": {
            "gridcolor": "white",
            "linecolor": "white",
            "ticks": ""
           }
          },
          "scene": {
           "xaxis": {
            "backgroundcolor": "#E5ECF6",
            "gridcolor": "white",
            "gridwidth": 2,
            "linecolor": "white",
            "showbackground": true,
            "ticks": "",
            "zerolinecolor": "white"
           },
           "yaxis": {
            "backgroundcolor": "#E5ECF6",
            "gridcolor": "white",
            "gridwidth": 2,
            "linecolor": "white",
            "showbackground": true,
            "ticks": "",
            "zerolinecolor": "white"
           },
           "zaxis": {
            "backgroundcolor": "#E5ECF6",
            "gridcolor": "white",
            "gridwidth": 2,
            "linecolor": "white",
            "showbackground": true,
            "ticks": "",
            "zerolinecolor": "white"
           }
          },
          "shapedefaults": {
           "line": {
            "color": "#2a3f5f"
           }
          },
          "ternary": {
           "aaxis": {
            "gridcolor": "white",
            "linecolor": "white",
            "ticks": ""
           },
           "baxis": {
            "gridcolor": "white",
            "linecolor": "white",
            "ticks": ""
           },
           "bgcolor": "#E5ECF6",
           "caxis": {
            "gridcolor": "white",
            "linecolor": "white",
            "ticks": ""
           }
          },
          "title": {
           "x": 0.05
          },
          "xaxis": {
           "automargin": true,
           "gridcolor": "white",
           "linecolor": "white",
           "ticks": "",
           "title": {
            "standoff": 15
           },
           "zerolinecolor": "white",
           "zerolinewidth": 2
          },
          "yaxis": {
           "automargin": true,
           "gridcolor": "white",
           "linecolor": "white",
           "ticks": "",
           "title": {
            "standoff": 15
           },
           "zerolinecolor": "white",
           "zerolinewidth": 2
          }
         }
        },
        "xaxis": {
         "anchor": "y",
         "categoryarray": [
          0,
          1
         ],
         "categoryorder": "array",
         "domain": [
          0,
          1
         ],
         "ticktext": [
          "Female",
          "Male"
         ],
         "tickvals": [
          0,
          1
         ],
         "title": {
          "text": "Gender"
         }
        },
        "yaxis": {
         "anchor": "x",
         "domain": [
          0,
          1
         ],
         "title": {
          "text": "Pay Rate"
         }
        }
       }
      }
     },
     "metadata": {},
     "output_type": "display_data"
    }
   ],
   "source": [
    "# box plot of pay rate by gender\n",
    "fig = px.box(artsy_df, x='SEX', y='RATE', color='SEX', labels={'SEX': 'Gender', 'RATE': 'Pay Rate'})\n",
    "fig.update_layout(xaxis={'tickvals': [0, 1], 'ticktext': ['Female', 'Male']})\n",
    "fig.show()"
   ]
  },
  {
   "attachments": {},
   "cell_type": "markdown",
   "metadata": {},
   "source": [
    "We can observe from the box plot that there is a clear distinction between the pay grade of females and males. The median pay rate for females is `810`, whereas the median for males is `1153`. There are a few high pay rate anomalies for females."
   ]
  },
  {
   "cell_type": "code",
   "execution_count": 55,
   "metadata": {},
   "outputs": [
    {
     "data": {
      "application/vnd.plotly.v1+json": {
       "config": {
        "plotlyServerURL": "https://plot.ly"
       },
       "data": [
        {
         "hovertemplate": "Pay Rate=%{x}<br>Job Grade=%{y}<br>Gender=%{marker.color}<extra></extra>",
         "legendgroup": "",
         "marker": {
          "color": [
           0,
           0,
           0,
           1,
           1,
           0,
           0,
           0,
           0,
           0,
           1,
           1,
           0,
           1,
           0,
           0,
           1,
           0,
           1,
           0,
           0,
           1,
           1,
           0,
           0,
           1,
           0,
           0,
           1,
           0,
           0,
           0,
           0,
           1,
           0,
           1,
           1,
           0,
           0,
           1,
           0,
           0,
           1,
           0,
           1,
           1,
           1,
           0,
           1,
           1,
           0,
           0,
           1,
           1,
           0,
           1,
           1,
           1,
           0,
           1,
           0,
           0,
           0,
           0,
           0,
           0,
           0,
           0,
           1,
           0,
           0,
           1,
           1,
           1,
           0,
           0,
           0,
           0,
           1,
           0,
           0,
           0,
           1,
           1,
           0,
           1,
           1,
           0,
           1,
           0,
           0,
           0,
           0,
           0,
           0,
           0,
           1,
           0,
           0,
           0,
           1,
           1,
           0,
           0,
           0,
           1,
           0,
           1,
           0,
           1,
           1,
           0,
           0,
           0,
           1,
           0,
           0,
           0,
           0,
           0,
           0,
           0,
           1,
           1,
           0,
           1,
           0,
           1,
           0,
           0,
           1,
           0,
           1,
           0,
           0,
           0,
           1,
           1,
           0,
           0,
           0,
           0,
           1,
           0,
           0,
           0,
           0,
           1,
           0,
           0,
           0,
           0,
           0,
           0,
           0,
           0,
           1,
           1,
           1,
           0,
           1,
           0,
           1,
           0,
           0,
           1,
           0,
           0,
           0,
           0,
           0,
           0,
           1,
           0,
           0,
           0,
           0,
           0,
           0,
           0,
           0,
           1,
           0,
           0,
           1,
           0,
           0,
           1,
           1,
           1,
           0,
           0,
           0,
           0,
           1,
           0,
           0,
           0,
           0,
           1,
           0,
           1,
           0,
           0,
           1,
           0,
           0,
           0,
           0,
           1,
           1,
           0,
           0,
           0,
           1,
           0,
           0,
           1,
           1,
           0,
           1,
           1,
           0,
           0,
           0,
           0,
           1,
           1,
           0,
           1,
           0,
           0,
           1,
           0,
           0,
           0,
           0,
           1,
           0,
           0,
           0,
           0,
           1,
           0,
           1,
           0,
           0,
           0,
           0,
           0,
           0,
           0,
           0,
           0,
           0,
           0
          ],
          "coloraxis": "coloraxis",
          "size": 8,
          "symbol": "circle"
         },
         "mode": "markers",
         "name": "",
         "orientation": "v",
         "showlegend": false,
         "type": "scatter",
         "x": [
          865.38,
          819.9,
          675,
          1494.24,
          729.72,
          709.5,
          692.31,
          722.64,
          726.93,
          692.31,
          1142.31,
          1413.45,
          795,
          825,
          867,
          778.86,
          1057.38,
          705.57,
          1052.31,
          735,
          780,
          1254.81,
          1263.99,
          692.31,
          946.17,
          1409.85,
          747,
          789,
          1110,
          923.1,
          692.31,
          648,
          1067.31,
          870,
          882.48,
          885,
          909,
          1035.42,
          657.69,
          859.62,
          616.17,
          924,
          928.86,
          761.55,
          1223.1,
          907.2,
          1119.24,
          1050,
          1500,
          739.62,
          1182.72,
          990,
          1368.24,
          1384.62,
          834,
          1263.48,
          1153.86,
          1263.48,
          813.6,
          825,
          840,
          692.31,
          836.55,
          813.48,
          963.45,
          747,
          915.57,
          951.93,
          830.76,
          853.83,
          660.45,
          1174.14,
          1056.6,
          1230,
          628.26,
          761.55,
          885,
          865.38,
          1176.93,
          825,
          848.1,
          681.93,
          1240.41,
          1518.75,
          729.72,
          1500,
          805.83,
          813.48,
          801,
          894.24,
          825,
          892.5,
          687,
          796.17,
          702,
          788.04,
          1110,
          778.86,
          795,
          780.24,
          819.24,
          1228.86,
          810,
          630,
          729.72,
          1065,
          816,
          1171.5,
          723.48,
          957.72,
          1275,
          894.24,
          602.31,
          1003.86,
          1135.38,
          840,
          756,
          770.19,
          750,
          687,
          900,
          780,
          1427.91,
          1275,
          911.55,
          1174.02,
          709.65,
          1263.48,
          787.5,
          807.72,
          1338.48,
          807.69,
          1230,
          1024.29,
          588.48,
          905.79,
          1551.93,
          1176.93,
          801.93,
          612,
          1001.55,
          931.74,
          1190.79,
          729.72,
          1365,
          810,
          856.17,
          1269.24,
          624,
          865.41,
          697.86,
          1237.5,
          990,
          818.1,
          687,
          1067.31,
          729.72,
          1350,
          1384.62,
          866.85,
          1128,
          1081.74,
          1396.17,
          830.79,
          692.31,
          1130.76,
          836.55,
          735,
          1073.1,
          709.62,
          923.1,
          1200,
          894,
          804,
          590.19,
          913.86,
          588.48,
          780,
          623.1,
          717,
          761.55,
          1153.83,
          778.86,
          770.55,
          1350,
          1360.08,
          616.17,
          1427.91,
          812.73,
          739.62,
          634.62,
          817.26,
          713.1,
          951.93,
          1375.98,
          630,
          901.14,
          578.76,
          951.93,
          1125,
          663.48,
          1390.41,
          1038.48,
          720,
          960,
          755.76,
          597.12,
          623.1,
          756,
          804,
          1157.91,
          1148.1,
          1050,
          858,
          1003.86,
          1390.41,
          894.24,
          951.93,
          1200,
          842.31,
          1130.76,
          990,
          1073.1,
          690,
          960.6,
          761.55,
          1419.24,
          1257.72,
          900,
          804,
          1096.17,
          931.74,
          819,
          1055.76,
          764.43,
          1078.86,
          690,
          1182.72,
          836.55,
          928.86,
          835.11,
          886.17,
          805.86,
          928.86,
          1070.22,
          729.72,
          761.55,
          1052.88,
          1188.48,
          980.79,
          950.79,
          605.79,
          805.86,
          720,
          980.79,
          1038.45
         ],
         "xaxis": "x",
         "y": [
          2,
          4,
          2,
          8,
          4,
          2,
          2,
          3,
          2,
          2,
          6,
          8,
          3,
          3,
          4,
          3,
          5,
          1,
          7,
          2,
          2,
          7,
          7,
          2,
          6,
          8,
          2,
          2,
          7,
          5,
          2,
          1,
          7,
          5,
          5,
          3,
          3,
          7,
          1,
          4,
          2,
          6,
          5,
          3,
          7,
          4,
          7,
          4,
          7,
          5,
          8,
          5,
          7,
          8,
          3,
          7,
          6,
          7,
          5,
          3,
          3,
          2,
          3,
          4,
          7,
          2,
          6,
          3,
          3,
          3,
          2,
          6,
          6,
          7,
          1,
          2,
          5,
          4,
          5,
          3,
          3,
          1,
          7,
          7,
          4,
          8,
          5,
          2,
          3,
          4,
          4,
          5,
          2,
          3,
          2,
          1,
          7,
          1,
          2,
          2,
          3,
          8,
          5,
          1,
          4,
          7,
          3,
          7,
          2,
          6,
          8,
          6,
          1,
          7,
          6,
          3,
          2,
          2,
          2,
          2,
          4,
          2,
          7,
          8,
          5,
          7,
          2,
          7,
          2,
          2,
          7,
          4,
          7,
          7,
          1,
          5,
          8,
          5,
          2,
          1,
          6,
          4,
          7,
          4,
          8,
          3,
          1,
          7,
          2,
          4,
          1,
          7,
          6,
          1,
          2,
          7,
          4,
          8,
          8,
          5,
          7,
          6,
          8,
          5,
          2,
          7,
          3,
          2,
          5,
          2,
          4,
          6,
          4,
          2,
          1,
          6,
          1,
          5,
          1,
          1,
          4,
          8,
          2,
          3,
          8,
          7,
          2,
          8,
          5,
          5,
          2,
          5,
          2,
          6,
          6,
          1,
          5,
          1,
          5,
          6,
          2,
          7,
          7,
          2,
          7,
          2,
          1,
          2,
          2,
          1,
          7,
          7,
          7,
          5,
          6,
          7,
          5,
          7,
          7,
          3,
          7,
          5,
          7,
          2,
          5,
          2,
          8,
          7,
          3,
          3,
          6,
          5,
          3,
          7,
          3,
          6,
          2,
          6,
          5,
          5,
          5,
          3,
          5,
          6,
          7,
          4,
          4,
          7,
          6,
          7,
          3,
          1,
          5,
          2,
          6,
          7
         ],
         "yaxis": "y"
        }
       ],
       "layout": {
        "coloraxis": {
         "colorbar": {
          "title": {
           "text": "Gender"
          }
         },
         "colorscale": [
          [
           0,
           "#0d0887"
          ],
          [
           0.1111111111111111,
           "#46039f"
          ],
          [
           0.2222222222222222,
           "#7201a8"
          ],
          [
           0.3333333333333333,
           "#9c179e"
          ],
          [
           0.4444444444444444,
           "#bd3786"
          ],
          [
           0.5555555555555556,
           "#d8576b"
          ],
          [
           0.6666666666666666,
           "#ed7953"
          ],
          [
           0.7777777777777778,
           "#fb9f3a"
          ],
          [
           0.8888888888888888,
           "#fdca26"
          ],
          [
           1,
           "#f0f921"
          ]
         ]
        },
        "legend": {
         "tracegroupgap": 0
        },
        "margin": {
         "t": 60
        },
        "template": {
         "data": {
          "bar": [
           {
            "error_x": {
             "color": "#2a3f5f"
            },
            "error_y": {
             "color": "#2a3f5f"
            },
            "marker": {
             "line": {
              "color": "#E5ECF6",
              "width": 0.5
             },
             "pattern": {
              "fillmode": "overlay",
              "size": 10,
              "solidity": 0.2
             }
            },
            "type": "bar"
           }
          ],
          "barpolar": [
           {
            "marker": {
             "line": {
              "color": "#E5ECF6",
              "width": 0.5
             },
             "pattern": {
              "fillmode": "overlay",
              "size": 10,
              "solidity": 0.2
             }
            },
            "type": "barpolar"
           }
          ],
          "carpet": [
           {
            "aaxis": {
             "endlinecolor": "#2a3f5f",
             "gridcolor": "white",
             "linecolor": "white",
             "minorgridcolor": "white",
             "startlinecolor": "#2a3f5f"
            },
            "baxis": {
             "endlinecolor": "#2a3f5f",
             "gridcolor": "white",
             "linecolor": "white",
             "minorgridcolor": "white",
             "startlinecolor": "#2a3f5f"
            },
            "type": "carpet"
           }
          ],
          "choropleth": [
           {
            "colorbar": {
             "outlinewidth": 0,
             "ticks": ""
            },
            "type": "choropleth"
           }
          ],
          "contour": [
           {
            "colorbar": {
             "outlinewidth": 0,
             "ticks": ""
            },
            "colorscale": [
             [
              0,
              "#0d0887"
             ],
             [
              0.1111111111111111,
              "#46039f"
             ],
             [
              0.2222222222222222,
              "#7201a8"
             ],
             [
              0.3333333333333333,
              "#9c179e"
             ],
             [
              0.4444444444444444,
              "#bd3786"
             ],
             [
              0.5555555555555556,
              "#d8576b"
             ],
             [
              0.6666666666666666,
              "#ed7953"
             ],
             [
              0.7777777777777778,
              "#fb9f3a"
             ],
             [
              0.8888888888888888,
              "#fdca26"
             ],
             [
              1,
              "#f0f921"
             ]
            ],
            "type": "contour"
           }
          ],
          "contourcarpet": [
           {
            "colorbar": {
             "outlinewidth": 0,
             "ticks": ""
            },
            "type": "contourcarpet"
           }
          ],
          "heatmap": [
           {
            "colorbar": {
             "outlinewidth": 0,
             "ticks": ""
            },
            "colorscale": [
             [
              0,
              "#0d0887"
             ],
             [
              0.1111111111111111,
              "#46039f"
             ],
             [
              0.2222222222222222,
              "#7201a8"
             ],
             [
              0.3333333333333333,
              "#9c179e"
             ],
             [
              0.4444444444444444,
              "#bd3786"
             ],
             [
              0.5555555555555556,
              "#d8576b"
             ],
             [
              0.6666666666666666,
              "#ed7953"
             ],
             [
              0.7777777777777778,
              "#fb9f3a"
             ],
             [
              0.8888888888888888,
              "#fdca26"
             ],
             [
              1,
              "#f0f921"
             ]
            ],
            "type": "heatmap"
           }
          ],
          "heatmapgl": [
           {
            "colorbar": {
             "outlinewidth": 0,
             "ticks": ""
            },
            "colorscale": [
             [
              0,
              "#0d0887"
             ],
             [
              0.1111111111111111,
              "#46039f"
             ],
             [
              0.2222222222222222,
              "#7201a8"
             ],
             [
              0.3333333333333333,
              "#9c179e"
             ],
             [
              0.4444444444444444,
              "#bd3786"
             ],
             [
              0.5555555555555556,
              "#d8576b"
             ],
             [
              0.6666666666666666,
              "#ed7953"
             ],
             [
              0.7777777777777778,
              "#fb9f3a"
             ],
             [
              0.8888888888888888,
              "#fdca26"
             ],
             [
              1,
              "#f0f921"
             ]
            ],
            "type": "heatmapgl"
           }
          ],
          "histogram": [
           {
            "marker": {
             "pattern": {
              "fillmode": "overlay",
              "size": 10,
              "solidity": 0.2
             }
            },
            "type": "histogram"
           }
          ],
          "histogram2d": [
           {
            "colorbar": {
             "outlinewidth": 0,
             "ticks": ""
            },
            "colorscale": [
             [
              0,
              "#0d0887"
             ],
             [
              0.1111111111111111,
              "#46039f"
             ],
             [
              0.2222222222222222,
              "#7201a8"
             ],
             [
              0.3333333333333333,
              "#9c179e"
             ],
             [
              0.4444444444444444,
              "#bd3786"
             ],
             [
              0.5555555555555556,
              "#d8576b"
             ],
             [
              0.6666666666666666,
              "#ed7953"
             ],
             [
              0.7777777777777778,
              "#fb9f3a"
             ],
             [
              0.8888888888888888,
              "#fdca26"
             ],
             [
              1,
              "#f0f921"
             ]
            ],
            "type": "histogram2d"
           }
          ],
          "histogram2dcontour": [
           {
            "colorbar": {
             "outlinewidth": 0,
             "ticks": ""
            },
            "colorscale": [
             [
              0,
              "#0d0887"
             ],
             [
              0.1111111111111111,
              "#46039f"
             ],
             [
              0.2222222222222222,
              "#7201a8"
             ],
             [
              0.3333333333333333,
              "#9c179e"
             ],
             [
              0.4444444444444444,
              "#bd3786"
             ],
             [
              0.5555555555555556,
              "#d8576b"
             ],
             [
              0.6666666666666666,
              "#ed7953"
             ],
             [
              0.7777777777777778,
              "#fb9f3a"
             ],
             [
              0.8888888888888888,
              "#fdca26"
             ],
             [
              1,
              "#f0f921"
             ]
            ],
            "type": "histogram2dcontour"
           }
          ],
          "mesh3d": [
           {
            "colorbar": {
             "outlinewidth": 0,
             "ticks": ""
            },
            "type": "mesh3d"
           }
          ],
          "parcoords": [
           {
            "line": {
             "colorbar": {
              "outlinewidth": 0,
              "ticks": ""
             }
            },
            "type": "parcoords"
           }
          ],
          "pie": [
           {
            "automargin": true,
            "type": "pie"
           }
          ],
          "scatter": [
           {
            "fillpattern": {
             "fillmode": "overlay",
             "size": 10,
             "solidity": 0.2
            },
            "type": "scatter"
           }
          ],
          "scatter3d": [
           {
            "line": {
             "colorbar": {
              "outlinewidth": 0,
              "ticks": ""
             }
            },
            "marker": {
             "colorbar": {
              "outlinewidth": 0,
              "ticks": ""
             }
            },
            "type": "scatter3d"
           }
          ],
          "scattercarpet": [
           {
            "marker": {
             "colorbar": {
              "outlinewidth": 0,
              "ticks": ""
             }
            },
            "type": "scattercarpet"
           }
          ],
          "scattergeo": [
           {
            "marker": {
             "colorbar": {
              "outlinewidth": 0,
              "ticks": ""
             }
            },
            "type": "scattergeo"
           }
          ],
          "scattergl": [
           {
            "marker": {
             "colorbar": {
              "outlinewidth": 0,
              "ticks": ""
             }
            },
            "type": "scattergl"
           }
          ],
          "scattermapbox": [
           {
            "marker": {
             "colorbar": {
              "outlinewidth": 0,
              "ticks": ""
             }
            },
            "type": "scattermapbox"
           }
          ],
          "scatterpolar": [
           {
            "marker": {
             "colorbar": {
              "outlinewidth": 0,
              "ticks": ""
             }
            },
            "type": "scatterpolar"
           }
          ],
          "scatterpolargl": [
           {
            "marker": {
             "colorbar": {
              "outlinewidth": 0,
              "ticks": ""
             }
            },
            "type": "scatterpolargl"
           }
          ],
          "scatterternary": [
           {
            "marker": {
             "colorbar": {
              "outlinewidth": 0,
              "ticks": ""
             }
            },
            "type": "scatterternary"
           }
          ],
          "surface": [
           {
            "colorbar": {
             "outlinewidth": 0,
             "ticks": ""
            },
            "colorscale": [
             [
              0,
              "#0d0887"
             ],
             [
              0.1111111111111111,
              "#46039f"
             ],
             [
              0.2222222222222222,
              "#7201a8"
             ],
             [
              0.3333333333333333,
              "#9c179e"
             ],
             [
              0.4444444444444444,
              "#bd3786"
             ],
             [
              0.5555555555555556,
              "#d8576b"
             ],
             [
              0.6666666666666666,
              "#ed7953"
             ],
             [
              0.7777777777777778,
              "#fb9f3a"
             ],
             [
              0.8888888888888888,
              "#fdca26"
             ],
             [
              1,
              "#f0f921"
             ]
            ],
            "type": "surface"
           }
          ],
          "table": [
           {
            "cells": {
             "fill": {
              "color": "#EBF0F8"
             },
             "line": {
              "color": "white"
             }
            },
            "header": {
             "fill": {
              "color": "#C8D4E3"
             },
             "line": {
              "color": "white"
             }
            },
            "type": "table"
           }
          ]
         },
         "layout": {
          "annotationdefaults": {
           "arrowcolor": "#2a3f5f",
           "arrowhead": 0,
           "arrowwidth": 1
          },
          "autotypenumbers": "strict",
          "coloraxis": {
           "colorbar": {
            "outlinewidth": 0,
            "ticks": ""
           }
          },
          "colorscale": {
           "diverging": [
            [
             0,
             "#8e0152"
            ],
            [
             0.1,
             "#c51b7d"
            ],
            [
             0.2,
             "#de77ae"
            ],
            [
             0.3,
             "#f1b6da"
            ],
            [
             0.4,
             "#fde0ef"
            ],
            [
             0.5,
             "#f7f7f7"
            ],
            [
             0.6,
             "#e6f5d0"
            ],
            [
             0.7,
             "#b8e186"
            ],
            [
             0.8,
             "#7fbc41"
            ],
            [
             0.9,
             "#4d9221"
            ],
            [
             1,
             "#276419"
            ]
           ],
           "sequential": [
            [
             0,
             "#0d0887"
            ],
            [
             0.1111111111111111,
             "#46039f"
            ],
            [
             0.2222222222222222,
             "#7201a8"
            ],
            [
             0.3333333333333333,
             "#9c179e"
            ],
            [
             0.4444444444444444,
             "#bd3786"
            ],
            [
             0.5555555555555556,
             "#d8576b"
            ],
            [
             0.6666666666666666,
             "#ed7953"
            ],
            [
             0.7777777777777778,
             "#fb9f3a"
            ],
            [
             0.8888888888888888,
             "#fdca26"
            ],
            [
             1,
             "#f0f921"
            ]
           ],
           "sequentialminus": [
            [
             0,
             "#0d0887"
            ],
            [
             0.1111111111111111,
             "#46039f"
            ],
            [
             0.2222222222222222,
             "#7201a8"
            ],
            [
             0.3333333333333333,
             "#9c179e"
            ],
            [
             0.4444444444444444,
             "#bd3786"
            ],
            [
             0.5555555555555556,
             "#d8576b"
            ],
            [
             0.6666666666666666,
             "#ed7953"
            ],
            [
             0.7777777777777778,
             "#fb9f3a"
            ],
            [
             0.8888888888888888,
             "#fdca26"
            ],
            [
             1,
             "#f0f921"
            ]
           ]
          },
          "colorway": [
           "#636efa",
           "#EF553B",
           "#00cc96",
           "#ab63fa",
           "#FFA15A",
           "#19d3f3",
           "#FF6692",
           "#B6E880",
           "#FF97FF",
           "#FECB52"
          ],
          "font": {
           "color": "#2a3f5f"
          },
          "geo": {
           "bgcolor": "white",
           "lakecolor": "white",
           "landcolor": "#E5ECF6",
           "showlakes": true,
           "showland": true,
           "subunitcolor": "white"
          },
          "hoverlabel": {
           "align": "left"
          },
          "hovermode": "closest",
          "mapbox": {
           "style": "light"
          },
          "paper_bgcolor": "white",
          "plot_bgcolor": "#E5ECF6",
          "polar": {
           "angularaxis": {
            "gridcolor": "white",
            "linecolor": "white",
            "ticks": ""
           },
           "bgcolor": "#E5ECF6",
           "radialaxis": {
            "gridcolor": "white",
            "linecolor": "white",
            "ticks": ""
           }
          },
          "scene": {
           "xaxis": {
            "backgroundcolor": "#E5ECF6",
            "gridcolor": "white",
            "gridwidth": 2,
            "linecolor": "white",
            "showbackground": true,
            "ticks": "",
            "zerolinecolor": "white"
           },
           "yaxis": {
            "backgroundcolor": "#E5ECF6",
            "gridcolor": "white",
            "gridwidth": 2,
            "linecolor": "white",
            "showbackground": true,
            "ticks": "",
            "zerolinecolor": "white"
           },
           "zaxis": {
            "backgroundcolor": "#E5ECF6",
            "gridcolor": "white",
            "gridwidth": 2,
            "linecolor": "white",
            "showbackground": true,
            "ticks": "",
            "zerolinecolor": "white"
           }
          },
          "shapedefaults": {
           "line": {
            "color": "#2a3f5f"
           }
          },
          "ternary": {
           "aaxis": {
            "gridcolor": "white",
            "linecolor": "white",
            "ticks": ""
           },
           "baxis": {
            "gridcolor": "white",
            "linecolor": "white",
            "ticks": ""
           },
           "bgcolor": "#E5ECF6",
           "caxis": {
            "gridcolor": "white",
            "linecolor": "white",
            "ticks": ""
           }
          },
          "title": {
           "x": 0.05
          },
          "xaxis": {
           "automargin": true,
           "gridcolor": "white",
           "linecolor": "white",
           "ticks": "",
           "title": {
            "standoff": 15
           },
           "zerolinecolor": "white",
           "zerolinewidth": 2
          },
          "yaxis": {
           "automargin": true,
           "gridcolor": "white",
           "linecolor": "white",
           "ticks": "",
           "title": {
            "standoff": 15
           },
           "zerolinecolor": "white",
           "zerolinewidth": 2
          }
         }
        },
        "xaxis": {
         "anchor": "y",
         "domain": [
          0,
          1
         ],
         "title": {
          "text": "Pay Rate"
         }
        },
        "yaxis": {
         "anchor": "x",
         "domain": [
          0,
          1
         ],
         "title": {
          "text": "Job Grade"
         }
        }
       }
      }
     },
     "metadata": {},
     "output_type": "display_data"
    }
   ],
   "source": [
    "# create a scatter plot to visualize pay rate vs. job grade colored by gender, where yellow is male and blue is female\n",
    "fig = px.scatter(artsy_df, x='RATE', y='GRADE', color='SEX', labels={'GRADE': 'Job Grade', 'RATE': 'Pay Rate', 'SEX': 'Gender'})\n",
    "fig.update_traces(marker=dict(size=8), selector=dict(mode='markers'))\n",
    "fig.show()"
   ]
  },
  {
   "attachments": {},
   "cell_type": "markdown",
   "metadata": {},
   "source": [
    "In the scatter plot, it is noticeable that the male demographic, depicted in yellow, tends to cluster towards higher job grades and higher salaries, which is represented in the top right quadrant of the plot. On the other hand, the female demographic, depicted in blue, appears to be more scattered across the left, center, and bottom half of the plot, indicating relatively lower job grades and pay rates compared to males."
   ]
  },
  {
   "attachments": {},
   "cell_type": "markdown",
   "metadata": {},
   "source": [
    "The **t-stat** and **p-value** are statistical measures used to determine if there is a significant difference between the means of two groups. \n",
    "\n",
    "- `T-stat`: The `t-stat` is a measure of the difference between the means of two groups relative to the variation within each group. It is calculated by dividing the difference between the means of the two groups by the standard error of the difference.\n",
    "- `P-value`: The `p-value` is a measure of the probability of obtaining a result as extreme as the actually observed result, assuming that there is no significant difference between the means of the two groups. In other words, it measures the evidence against the null hypothesis that there is no significant difference in mean pay rate between male and female employees."
   ]
  },
  {
   "cell_type": "code",
   "execution_count": 56,
   "metadata": {},
   "outputs": [
    {
     "name": "stdout",
     "output_type": "stream",
     "text": [
      "T-stat: 12.193089502296349\n",
      "P-value: 3.1458173491705427e-27\n"
     ]
    }
   ],
   "source": [
    "male_pay = artsy_df[artsy_df['SEX'] == 1]['RATE']\n",
    "female_pay = artsy_df[artsy_df['SEX'] == 0]['RATE']\n",
    "\n",
    "t_stat, p_val = ttest_ind(male_pay, female_pay)\n",
    "\n",
    "print('T-stat:', t_stat)\n",
    "print('P-value:', p_val)"
   ]
  },
  {
   "attachments": {},
   "cell_type": "markdown",
   "metadata": {},
   "source": [
    "In the context of the Artsy data, the `t-stat` is `12.19`. This indicates that the difference in mean pay rate between male and female employees is large relative to the variation within each group. <br> Additionally, in the context of the Artsy data, the `p-value` is `3.1458e-27`, which is extremely small. This suggests strong evidence against the null hypothesis and implies a significant difference in pay based on gender."
   ]
  },
  {
   "attachments": {},
   "cell_type": "markdown",
   "metadata": {},
   "source": [
    "### Conclusion\n",
    "\n",
    "Based on our analysis of the `Artsy Corporation`'s hiring data, there is strong evidence of gender-based disparities in pay. The data shows that female employees tend to have lower pay rates compared to their male counterparts. The median pay rate for females is significantly lower than that of males, and the scatter plot demonstrates a clear clustering of males towards higher job grades and salaries. <br><br>\n",
    "\n",
    "Furthermore, the statistical analysis, including the t-statistic and p-value, supports the conclusion that the difference in mean pay rate between male and female employees is significant. The `t-stat` indicates a large difference relative to the variation within each group, and the very small `p-value` provides strong evidence against the null hypothesis of no significant difference in pay based on gender. <br><br>\n",
    "\n",
    "These findings suggest that the plaintiffs in the discrimination lawsuit against Artsy Corporation have a valid case. The data supports their claims of gender-based disparities in pay."
   ]
  }
 ],
 "metadata": {
  "kernelspec": {
   "display_name": "Python 3",
   "language": "python",
   "name": "python3"
  },
  "language_info": {
   "codemirror_mode": {
    "name": "ipython",
    "version": 3
   },
   "file_extension": ".py",
   "mimetype": "text/x-python",
   "name": "python",
   "nbconvert_exporter": "python",
   "pygments_lexer": "ipython3",
   "version": "3.11.4"
  },
  "orig_nbformat": 4
 },
 "nbformat": 4,
 "nbformat_minor": 2
}
